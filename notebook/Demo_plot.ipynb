{
  "nbformat": 4,
  "nbformat_minor": 5,
  "metadata": {
    "colab": {
      "name": "Load_Data.ipynb",
      "provenance": [],
      "include_colab_link": true
    },
    "kernelspec": {
      "display_name": "Python 3",
      "language": "python",
      "name": "python3"
    },
    "language_info": {
      "codemirror_mode": {
        "name": "ipython",
        "version": 3
      },
      "file_extension": ".py",
      "mimetype": "text/x-python",
      "name": "python",
      "nbconvert_exporter": "python",
      "pygments_lexer": "ipython3",
      "version": "3.7.10"
    }
  },
  "cells": [
    {
      "cell_type": "markdown",
      "metadata": {
        "id": "view-in-github",
        "colab_type": "text"
      },
      "source": [
        "<a href=\"https://colab.research.google.com/github/RajK853/tum-adlr-ss21-11/blob/main/notebook/Demo_plot.ipynb\" target=\"_parent\"><img src=\"https://colab.research.google.com/assets/colab-badge.svg\" alt=\"Open In Colab\"/></a>"
      ]
    },
    {
      "cell_type": "markdown",
      "metadata": {
        "id": "0vpgdY_rnfle"
      },
      "source": [
        "# Setup for Google Colab\n",
        "The sections below are required to execute this notebook in Google Colab. If you are not executing this notebook in Google colab, you can skip to [here](#Implementation)."
      ],
      "id": "0vpgdY_rnfle"
    },
    {
      "cell_type": "code",
      "metadata": {
        "id": "rvybfUwLi1a3"
      },
      "source": [
        "%tensorflow_version 2.x"
      ],
      "id": "rvybfUwLi1a3",
      "execution_count": 5,
      "outputs": []
    },
    {
      "cell_type": "markdown",
      "metadata": {
        "id": "KjOT6U_xzIxh"
      },
      "source": [
        "## Cloning the repo\n",
        "The shell command below clones the git repo if the local repo directory does not exit. Otherwise, it simply pulls the updated version."
      ],
      "id": "KjOT6U_xzIxh"
    },
    {
      "cell_type": "code",
      "metadata": {
        "id": "ECca4LD4BRrq",
        "colab": {
          "base_uri": "https://localhost:8080/"
        },
        "outputId": "53e769be-2933-40de-dec1-9d2803b41522"
      },
      "source": [
        "%%shell\n",
        "REPOSRC=https://github.com/RajK853/tum-adlr-ss21-11.git\n",
        "LOCALREPO=/adlr\n",
        " \n",
        "LOCALREPO_VC_DIR=$LOCALREPO/.git\n",
        " \n",
        "if [ ! -d $LOCALREPO_VC_DIR ]\n",
        "then\n",
        "    git clone $REPOSRC $LOCALREPO\n",
        "else\n",
        "    cd $LOCALREPO\n",
        "    git pull $REPOSRC\n",
        "fi"
      ],
      "id": "ECca4LD4BRrq",
      "execution_count": 3,
      "outputs": [
        {
          "output_type": "stream",
          "text": [
            "From https://github.com/RajK853/tum-adlr-ss21-11\n",
            " * branch            HEAD       -> FETCH_HEAD\n",
            "Already up to date.\n"
          ],
          "name": "stdout"
        },
        {
          "output_type": "execute_result",
          "data": {
            "text/plain": [
              ""
            ]
          },
          "metadata": {
            "tags": []
          },
          "execution_count": 3
        }
      ]
    },
    {
      "cell_type": "markdown",
      "metadata": {
        "id": "z5cWwVHEor9Z"
      },
      "source": [
        "## Setting the working directory\n",
        "By default, the working directory is `./notebook/` for Jupyter Lab. Therefore, we set the working directory to that path also in Google Colab so that the later cells is compatible with both Google Colab and Jupyter Lab. "
      ],
      "id": "z5cWwVHEor9Z"
    },
    {
      "cell_type": "code",
      "metadata": {
        "colab": {
          "base_uri": "https://localhost:8080/"
        },
        "id": "cx6uJVTzjYLN",
        "outputId": "347dbbbc-2867-48a4-8c34-e1619fbf8b04"
      },
      "source": [
        "%cd /adlr/notebook"
      ],
      "id": "cx6uJVTzjYLN",
      "execution_count": 4,
      "outputs": [
        {
          "output_type": "stream",
          "text": [
            "/adlr/notebook\n"
          ],
          "name": "stdout"
        }
      ]
    },
    {
      "cell_type": "markdown",
      "metadata": {
        "id": "lz1ZFCqdoZtM"
      },
      "source": [
        "## Mount Google Drive\n",
        "Mount your Google drive to access the data set located in your Google drive."
      ],
      "id": "lz1ZFCqdoZtM"
    },
    {
      "cell_type": "code",
      "metadata": {
        "colab": {
          "base_uri": "https://localhost:8080/"
        },
        "id": "_9wdRTt0jlkm",
        "outputId": "e97d9bb1-35fc-4fe3-bdb2-5d6935adc56f"
      },
      "source": [
        "from google.colab import drive\n",
        "drive.mount('/content/drive')"
      ],
      "id": "_9wdRTt0jlkm",
      "execution_count": 7,
      "outputs": [
        {
          "output_type": "stream",
          "text": [
            "Mounted at /content/drive\n"
          ],
          "name": "stdout"
        }
      ]
    },
    {
      "cell_type": "markdown",
      "metadata": {
        "id": "30TCHX-Mntm2"
      },
      "source": [
        "# Implementation\n",
        "The section below works for both Google Colab and Jupyter Notebook."
      ],
      "id": "30TCHX-Mntm2"
    },
    {
      "cell_type": "code",
      "metadata": {
        "id": "33b915e2-f2b7-4abb-90ec-2c899922016f"
      },
      "source": [
        "import numpy as np\n",
        "import matplotlib.pyplot as plt"
      ],
      "id": "33b915e2-f2b7-4abb-90ec-2c899922016f",
      "execution_count": 3,
      "outputs": []
    },
    {
      "cell_type": "code",
      "metadata": {
        "colab": {
          "base_uri": "https://localhost:8080/"
        },
        "id": "ebdbe71a-3a27-42b3-bdae-3df56859e244",
        "outputId": "38c736e4-6826-4d62-a4db-e8b14f3662f3"
      },
      "source": [
        "# Change directory to src to import functions from load.py\n",
        "%cd \"../src\"\n",
        "from load import get_values_sql, compressed2img, object2numeric_array"
      ],
      "id": "ebdbe71a-3a27-42b3-bdae-3df56859e244",
      "execution_count": 6,
      "outputs": [
        {
          "output_type": "stream",
          "text": [
            "/adlr/src\n"
          ],
          "name": "stdout"
        }
      ]
    },
    {
      "cell_type": "markdown",
      "metadata": {
        "id": "fe7fbd19-a95e-4576-bdc6-67b3ceab97c6"
      },
      "source": [
        "## Initialize global variables"
      ],
      "id": "fe7fbd19-a95e-4576-bdc6-67b3ceab97c6"
    },
    {
      "cell_type": "code",
      "metadata": {
        "id": "9YHZdD0cjwyo"
      },
      "source": [
        "db_path = r\"/content/drive/MyDrive/ADLR Data Set/SingleSphere02.db\"   # Path of the data in your local machine"
      ],
      "id": "9YHZdD0cjwyo",
      "execution_count": 8,
      "outputs": []
    },
    {
      "cell_type": "code",
      "metadata": {
        "id": "7e2e01b4-480e-43fc-b866-d1d199929f2b"
      },
      "source": [
        "n_voxels = 64\n",
        "voxel_size = 10 / 64     # in m\n",
        "extent = [0, 10, 0, 10]  # in m\n",
        "n_waypoints = 22         # start + 20 inner points + end\n",
        "n_dim = 2\n",
        "n_paths_per_world = 1000\n",
        "path_rows = [0, 1, 1000, 2000, 3500]"
      ],
      "id": "7e2e01b4-480e-43fc-b866-d1d199929f2b",
      "execution_count": 9,
      "outputs": []
    },
    {
      "cell_type": "markdown",
      "metadata": {
        "id": "8c0b7b40-150f-43cb-a41d-eb8187bb5af7"
      },
      "source": [
        "## Loading data"
      ],
      "id": "8c0b7b40-150f-43cb-a41d-eb8187bb5af7"
    },
    {
      "cell_type": "code",
      "metadata": {
        "colab": {
          "base_uri": "https://localhost:8080/"
        },
        "id": "a994eac0-bc90-4284-aa39-ae2dd7d167af",
        "outputId": "773f6af5-f364-460a-f14b-5c797fcd0157"
      },
      "source": [
        "worlds = get_values_sql(file=db_path, table='worlds')\n",
        "obstacle_images = compressed2img(img_cmp=worlds.obst_img_cmp.values, n_voxels=n_voxels, n_dim=n_dim)\n",
        "print(f\"Obstacle images dimension: {obstacle_images.shape}\")"
      ],
      "id": "a994eac0-bc90-4284-aa39-ae2dd7d167af",
      "execution_count": 10,
      "outputs": [
        {
          "output_type": "stream",
          "text": [
            "Obstacle images dimension: (5000, 64, 64)\n"
          ],
          "name": "stdout"
        },
        {
          "output_type": "stream",
          "text": [
            "/adlr/src/load.py:163: VisibleDeprecationWarning: Creating an ndarray from ragged nested sequences (which is a list-or-tuple of lists-or-tuples-or ndarrays with different lengths or shapes) is deprecated. If you meant to do this, you must specify 'dtype=object' when creating the ndarray\n",
            "  value = np.array([np.frombuffer(v, dtype=int) for v in value])\n"
          ],
          "name": "stderr"
        }
      ]
    },
    {
      "cell_type": "markdown",
      "metadata": {
        "id": "6f63e4aa-2907-4346-8923-968eccb402f9"
      },
      "source": [
        "Each world consists of **1000 different path configurations** such that path index 0 - 999 is in world 0, path index 1000 - 1999 is in world 1 etc i.e. $world_i = floor(\\frac{path_i}{1000})$"
      ],
      "id": "6f63e4aa-2907-4346-8923-968eccb402f9"
    },
    {
      "cell_type": "code",
      "metadata": {
        "id": "65594203-ace5-4d31-b2e9-580b99e01acc"
      },
      "source": [
        "paths = get_values_sql(file=db_path, table='paths', rows=path_rows)\n",
        "path_images = compressed2img(img_cmp=paths.path_img_cmp.values, n_voxels=n_voxels, n_dim=n_dim)\n",
        "start_images = compressed2img(img_cmp=paths.start_img_cmp.values, n_voxels=n_voxels, n_dim=n_dim)\n",
        "end_images = compressed2img(img_cmp=paths.end_img_cmp.values, n_voxels=n_voxels, n_dim=n_dim)\n",
        "\n",
        "q_paths = object2numeric_array(paths.q_path.values)\n",
        "q_paths = q_paths.reshape(-1, n_waypoints, n_dim)"
      ],
      "id": "65594203-ace5-4d31-b2e9-580b99e01acc",
      "execution_count": 11,
      "outputs": []
    },
    {
      "cell_type": "markdown",
      "metadata": {
        "id": "8ff97628-a8ee-4cfd-bd15-c24b6fb63930"
      },
      "source": [
        "## Plot an example"
      ],
      "id": "8ff97628-a8ee-4cfd-bd15-c24b6fb63930"
    },
    {
      "cell_type": "code",
      "metadata": {
        "colab": {
          "base_uri": "https://localhost:8080/",
          "height": 172
        },
        "id": "f138546b-3308-4c06-848f-9990a46ff41f",
        "outputId": "fdadf258-df86-4766-d31b-4b7070bacf8a"
      },
      "source": [
        "path_i = np.random.choice(path_rows)\n",
        "i = np.where(path_rows==path_i)[0].item()\n",
        "world_i = path_i//n_paths_per_world\n",
        "\n",
        "_, axs = plt.subplots(nrows=1, ncols=4, figsize=(10, 10))\n",
        "axs[0].imshow(obstacle_images[world_i].T, origin='lower', extent=extent, cmap='binary')\n",
        "axs[1].imshow(start_images[i].T, origin='lower', extent=extent, cmap='Greens')\n",
        "axs[2].imshow(end_images[i].T, origin='lower', extent=extent, cmap='Reds')\n",
        "axs[3].imshow(path_images[i].T, origin='lower', extent=extent, cmap='Blues')\n",
        "# Set titles and remove x/y ticks\n",
        "for (ax, title) in zip(axs, (\"Obstacles\", \"Start point\", \"End point\", \"Path\")) :\n",
        "    ax.set_title(title)\n",
        "    ax.set_xticks([])\n",
        "    ax.set_yticks([])\n",
        "plt.show()"
      ],
      "id": "f138546b-3308-4c06-848f-9990a46ff41f",
      "execution_count": 15,
      "outputs": [
        {
          "output_type": "display_data",
          "data": {
            "image/png": "[encoded data removed]",
            "text/plain": [
              "<Figure size 720x720 with 4 Axes>"
            ]
          },
          "metadata": {
            "tags": []
          }
        }
      ]
    },
    {
      "cell_type": "code",
      "metadata": {
        "colab": {
          "base_uri": "https://localhost:8080/",
          "height": 268
        },
        "id": "3e15215e-5f9d-4bcf-a835-17bd15346dc9",
        "outputId": "c1d30706-991c-4268-9b83-fdab836505af"
      },
      "source": [
        "fig, ax = plt.subplots()\n",
        "ax.imshow(obstacle_images[world_i].T, origin='lower', extent=extent, cmap='binary')\n",
        "ax.imshow(start_images[i].T, origin='lower', extent=extent, cmap='Greens', alpha=0.4)\n",
        "ax.imshow(end_images[i].T, origin='lower', extent=extent, cmap='Reds', alpha=0.4)\n",
        "ax.imshow(path_images[i].T, origin='lower', extent=extent, cmap='Blues', alpha=0.2)\n",
        "ax.plot(*q_paths[i].T, color='k', marker='o')\n",
        "plt.title(\"Combined plot\")\n",
        "plt.xticks([])\n",
        "plt.yticks([])\n",
        "plt.show()"
      ],
      "id": "3e15215e-5f9d-4bcf-a835-17bd15346dc9",
      "execution_count": 16,
      "outputs": [
        {
          "output_type": "display_data",
          "data": {
            "image/png": "[encoded data removed]",
            "text/plain": [
              "<Figure size 432x288 with 1 Axes>"
            ]
          },
          "metadata": {
            "tags": []
          }
        }
      ]
    },
    {
      "cell_type": "code",
      "metadata": {
        "id": "876a539e-3f57-45e7-8c48-a8f5562015e3"
      },
      "source": [
        ""
      ],
      "id": "876a539e-3f57-45e7-8c48-a8f5562015e3",
      "execution_count": null,
      "outputs": []
    }
  ]
}