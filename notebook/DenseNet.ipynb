{
 "cells": [
  {
   "cell_type": "markdown",
   "id": "b5f3629d-660b-49b5-83a1-3092fac488df",
   "metadata": {},
   "source": [
    "<a href=\"https://colab.research.google.com/github/RajK853/tum-adlr-ss21-11/blob/main/notebook/DenseNet.ipynb\" target=\"_parent\"><img src=\"https://colab.research.google.com/assets/colab-badge.svg\" alt=\"Open In Colab\"/></a>"
   ]
  },
  {
   "cell_type": "markdown",
   "id": "2b8e2147-cb53-4429-b77c-0f02bc35475d",
   "metadata": {
    "id": "0vpgdY_rnfle"
   },
   "source": [
    "# Setup for Google Colab\n",
    "The sections below are required to execute this notebook in Google Colab. If you are not executing this notebook in Google colab, you can skip these sections."
   ]
  },
  {
   "cell_type": "markdown",
   "id": "c9de8355-1cc5-4089-9b02-adaa3b459bc7",
   "metadata": {
    "id": "S-RkY6wv-Nuw"
   },
   "source": [
    "## Load Tensorflow\n",
    "In Google Colab, tensorflow can be easily selected using the given magic command:"
   ]
  },
  {
   "cell_type": "code",
   "execution_count": 5,
   "id": "fffbba7b-ea87-4373-9515-a44979fd1659",
   "metadata": {
    "id": "rvybfUwLi1a3"
   },
   "outputs": [],
   "source": [
    "%tensorflow_version 2.x"
   ]
  },
  {
   "cell_type": "markdown",
   "id": "453cd5d2-6448-4f21-abbd-30c25aa96b9a",
   "metadata": {
    "id": "KjOT6U_xzIxh"
   },
   "source": [
    "## Cloning the repo\n",
    "The shell command below clones the git repo if the local repo directory does not exit. Otherwise, it simply pulls the updated version."
   ]
  },
  {
   "cell_type": "code",
   "execution_count": 3,
   "id": "1906f6c4-9c4d-485a-8c2a-7b3b9ff088d5",
   "metadata": {
    "colab": {
     "base_uri": "https://localhost:8080/"
    },
    "id": "ECca4LD4BRrq",
    "outputId": "53e769be-2933-40de-dec1-9d2803b41522"
   },
   "outputs": [
    {
     "name": "stdout",
     "output_type": "stream",
     "text": [
      "From https://github.com/RajK853/tum-adlr-ss21-11\n",
      " * branch            HEAD       -> FETCH_HEAD\n",
      "Already up to date.\n"
     ]
    },
    {
     "data": {
      "text/plain": []
     },
     "execution_count": 3,
     "metadata": {
      "tags": []
     },
     "output_type": "execute_result"
    }
   ],
   "source": [
    "%%shell\n",
    "REPOSRC=https://github.com/RajK853/tum-adlr-ss21-11.git\n",
    "LOCALREPO=/adlr\n",
    " \n",
    "LOCALREPO_VC_DIR=$LOCALREPO/.git\n",
    " \n",
    "if [ ! -d $LOCALREPO_VC_DIR ]\n",
    "then\n",
    "    git clone $REPOSRC $LOCALREPO\n",
    "else\n",
    "    cd $LOCALREPO\n",
    "    git pull $REPOSRC\n",
    "fi"
   ]
  },
  {
   "cell_type": "markdown",
   "id": "af2a6fb1-4296-4b68-9b52-bee8ecb5dc30",
   "metadata": {
    "id": "z5cWwVHEor9Z"
   },
   "source": [
    "## Setting the working directory\n",
    "By default, the working directory is `./notebook/` for Jupyter Lab. Therefore, we set the working directory to that path also in Google Colab so that the later cells are compatible with both Google Colab and Jupyter Lab. "
   ]
  },
  {
   "cell_type": "code",
   "execution_count": 4,
   "id": "5b234dd3-91f1-444e-8be8-87b7272ee571",
   "metadata": {
    "colab": {
     "base_uri": "https://localhost:8080/"
    },
    "id": "cx6uJVTzjYLN",
    "outputId": "347dbbbc-2867-48a4-8c34-e1619fbf8b04"
   },
   "outputs": [
    {
     "name": "stdout",
     "output_type": "stream",
     "text": [
      "/adlr/notebook\n"
     ]
    }
   ],
   "source": [
    "%cd /adlr/notebook"
   ]
  },
  {
   "cell_type": "markdown",
   "id": "844709fb-b0b6-41a0-9e52-e5b2bc85553d",
   "metadata": {
    "id": "lz1ZFCqdoZtM"
   },
   "source": [
    "## Mount Google Drive\n",
    "Mount your Google drive to access the data set located in your Google drive."
   ]
  },
  {
   "cell_type": "code",
   "execution_count": 7,
   "id": "f04d3084-f7a0-4fe1-8175-fb4d8cf9d054",
   "metadata": {
    "colab": {
     "base_uri": "https://localhost:8080/"
    },
    "id": "_9wdRTt0jlkm",
    "outputId": "e97d9bb1-35fc-4fe3-bdb2-5d6935adc56f"
   },
   "outputs": [
    {
     "name": "stdout",
     "output_type": "stream",
     "text": [
      "Mounted at /content/drive\n"
     ]
    }
   ],
   "source": [
    "from google.colab import drive\n",
    "drive.mount('/content/drive')"
   ]
  },
  {
   "cell_type": "markdown",
   "id": "1241f1e0-4a02-4e05-a840-6187d43e09b3",
   "metadata": {
    "id": "30TCHX-Mntm2"
   },
   "source": [
    "# Implementation\n",
    "The sections below works for both Google Colab and Jupyter Notebook."
   ]
  },
  {
   "cell_type": "code",
   "execution_count": 1,
   "id": "0e8155e8-bd3e-4bdd-88d6-67f3286c643f",
   "metadata": {},
   "outputs": [
    {
     "name": "stdout",
     "output_type": "stream",
     "text": [
      "CPU times: user 4.71 s, sys: 1.69 s, total: 6.4 s\n",
      "Wall time: 51.6 s\n"
     ]
    }
   ],
   "source": [
    "%%time\n",
    "import numpy as np\n",
    "import matplotlib.pyplot as plt\n",
    "import tensorflow.compat.v1 as tf\n",
    "from tensorflow.compat.v1.keras import utils\n",
    "from sklearn.model_selection import train_test_split"
   ]
  },
  {
   "cell_type": "code",
   "execution_count": 2,
   "id": "c67df6c3-6f03-4f03-92ba-696c2fbd4b36",
   "metadata": {},
   "outputs": [],
   "source": [
    "%load_ext tensorboard"
   ]
  },
  {
   "cell_type": "code",
   "execution_count": 3,
   "id": "3ea4e752-738b-4eff-b5e1-4de4422e43d2",
   "metadata": {},
   "outputs": [
    {
     "name": "stdout",
     "output_type": "stream",
     "text": [
      "/home/rajk/DIT/ADLR/tum-adlr-ss21-11/src\n"
     ]
    }
   ],
   "source": [
    "# Change directory to src to import functions from load.py\n",
    "%cd \"../src\"\n",
    "from models import u_dense_net\n",
    "from generators import DataGen\n",
    "from losses import soft_dice_loss\n",
    "from load import get_values_sql, compressed2img, object2numeric_array"
   ]
  },
  {
   "cell_type": "markdown",
   "id": "077ea3fc-5d01-4b9a-9cef-cba3b489f0ac",
   "metadata": {},
   "source": [
    "# Local functions"
   ]
  },
  {
   "cell_type": "code",
   "execution_count": 4,
   "id": "7d76c5a4-7961-4a05-ae4f-b49c4795aeb8",
   "metadata": {},
   "outputs": [],
   "source": [
    "def load_world_data(db_path, n_voxels, n_dim):\n",
    "    worlds = get_values_sql(file=db_path, table=\"worlds\")\n",
    "    obstacle_images = compressed2img(img_cmp=worlds.obst_img_cmp.values, n_voxels=n_voxels, n_dim=n_dim)\n",
    "    return obstacle_images\n",
    "\n",
    "def load_data(db_path, path_indexes, n_voxels, n_dim):    \n",
    "    paths = get_values_sql(file=db_path, table='paths', rows=path_indexes)\n",
    "    path_images = compressed2img(img_cmp=paths.path_img_cmp.values, n_voxels=n_voxels, n_dim=n_dim)\n",
    "    start_images = compressed2img(img_cmp=paths.start_img_cmp.values, n_voxels=n_voxels, n_dim=n_dim)\n",
    "    end_images = compressed2img(img_cmp=paths.end_img_cmp.values, n_voxels=n_voxels, n_dim=n_dim)\n",
    "    \n",
    "    q_paths = object2numeric_array(paths.q_path.values)\n",
    "    q_paths = q_paths.reshape(-1, n_waypoints, n_dim)\n",
    "    return start_images, end_images, path_images\n",
    "\n",
    "def image2image_callback(batch_indexes, data_dict):\n",
    "    path_indexes = data_dict[\"path_rows\"][batch_indexes]\n",
    "    obst_indexes = path_indexes//n_paths_per_world\n",
    "    obst_batch_data = data_dict[\"obst_imgs\"][obst_indexes]\n",
    "    goal_batch_data = data_dict[\"goal_imgs\"][batch_indexes]\n",
    "    path_batch_data = data_dict[\"path_imgs\"][batch_indexes]\n",
    "    input_batch_data = [np.concatenate([obst_batch_data, goal_batch_data], axis=-1)]\n",
    "    output_batch_data = [path_batch_data]\n",
    "    return input_batch_data, output_batch_data"
   ]
  },
  {
   "cell_type": "markdown",
   "id": "b2453b72-efba-43a9-93a8-652fe80faef7",
   "metadata": {},
   "source": [
    "# Init global variables"
   ]
  },
  {
   "cell_type": "code",
   "execution_count": 5,
   "id": "db5f419e-9ff9-4700-8ab8-d15e1cacfb5c",
   "metadata": {
    "tags": []
   },
   "outputs": [],
   "source": [
    "db_path = r\"../SingleSphere02.db\"   # Path of the data in your local machine\n",
    "\n",
    "n_voxels = 64\n",
    "voxel_size = 10 / 64     # in m\n",
    "extent = [0, 10, 0, 10]  # in m\n",
    "n_waypoints = 22         # start + 20 inner points + end\n",
    "n_dim = 2\n",
    "n_paths_per_world = 1000\n",
    "n_paths = 50000\n",
    "path_rows = np.arange(0, n_paths, step=10)\n",
    "\n",
    "batch_size = 32\n",
    "validation_ratio = 0.1\n",
    "input_shape = (n_voxels, n_voxels, 2)"
   ]
  },
  {
   "cell_type": "markdown",
   "id": "55a54508-7b49-49dd-9459-12bb399062fc",
   "metadata": {},
   "source": [
    "# Load training and validation data"
   ]
  },
  {
   "cell_type": "code",
   "execution_count": 6,
   "id": "f15765f3-1c32-454d-a53c-3f08d3d65753",
   "metadata": {},
   "outputs": [
    {
     "name": "stderr",
     "output_type": "stream",
     "text": [
      "/home/rajk/DIT/ADLR/tum-adlr-ss21-11/src/load.py:163: VisibleDeprecationWarning: Creating an ndarray from ragged nested sequences (which is a list-or-tuple of lists-or-tuples-or ndarrays with different lengths or shapes) is deprecated. If you meant to do this, you must specify 'dtype=object' when creating the ndarray.\n",
      "  value = np.array([np.frombuffer(v, dtype=int) for v in value])\n"
     ]
    },
    {
     "name": "stdout",
     "output_type": "stream",
     "text": [
      "CPU times: user 552 ms, sys: 198 ms, total: 750 ms\n",
      "Wall time: 7.85 s\n"
     ]
    }
   ],
   "source": [
    "%%time\n",
    "obst_imgs = load_world_data(db_path, n_voxels, n_dim)\n",
    "\n",
    "start_imgs, end_imgs, path_imgs = load_data(db_path, path_rows, n_voxels, n_dim)\n",
    "goal_imgs = start_imgs + end_imgs            # Add start and end images together\n",
    "# Expand dimension of images to create the channel layer\n",
    "obst_imgs, goal_imgs, path_imgs = (\n",
    "    np.expand_dims(data, axis=-1) \n",
    "    for data in (obst_imgs, goal_imgs, path_imgs)\n",
    ")\n",
    "del start_imgs, end_imgs"
   ]
  },
  {
   "cell_type": "code",
   "execution_count": 7,
   "id": "5499b78c-b2f1-45e2-b7f9-c2f83b46b982",
   "metadata": {},
   "outputs": [],
   "source": [
    "# TODO: Use better uniform data split technique \n",
    "train_goal_imgs, validation_goal_imgs, train_path_imgs, validation_path_imgs = train_test_split(goal_imgs, path_imgs.astype(\"float32\"), test_size=validation_ratio)\n",
    "train_data_dict = {\n",
    "    \"path_rows\": path_rows,          # This is used to \n",
    "    \"obst_imgs\": obst_imgs,\n",
    "    \"goal_imgs\": train_goal_imgs,\n",
    "    \"path_imgs\": train_path_imgs\n",
    "}\n",
    "\n",
    "validation_data_dict = {\n",
    "    \"path_rows\": path_rows,\n",
    "    \"obst_imgs\": obst_imgs,\n",
    "    \"goal_imgs\": validation_goal_imgs,\n",
    "    \"path_imgs\": validation_path_imgs\n",
    "}"
   ]
  },
  {
   "cell_type": "code",
   "execution_count": 8,
   "id": "e6d52711-d317-46c2-a1bd-061a7f58e78b",
   "metadata": {},
   "outputs": [],
   "source": [
    "train_data_gen = DataGen(train_data_dict, callback=image2image_callback, batch_size=batch_size)\n",
    "validation_data_gen = DataGen(validation_data_dict, callback=image2image_callback, batch_size=batch_size)"
   ]
  },
  {
   "cell_type": "markdown",
   "id": "0dd74aa3-7583-442c-964e-01141501f0f1",
   "metadata": {},
   "source": [
    "# Visualize Graph"
   ]
  },
  {
   "cell_type": "code",
   "execution_count": 9,
   "id": "98e842b4-3746-4b2c-b8af-314c6e1ab401",
   "metadata": {
    "collapsed": true,
    "jupyter": {
     "outputs_hidden": true
    },
    "tags": []
   },
   "outputs": [
    {
     "data": {
      "text/html": [
       "\n",
       "      <iframe id=\"tensorboard-frame-44b7f69856119d68\" width=\"100%\" height=\"800\" frameborder=\"0\">\n",
       "      </iframe>\n",
       "      <script>\n",
       "        (function() {\n",
       "          const frame = document.getElementById(\"tensorboard-frame-44b7f69856119d68\");\n",
       "          const url = new URL(\"/\", window.location);\n",
       "          const port = 6006;\n",
       "          if (port) {\n",
       "            url.port = port;\n",
       "          }\n",
       "          frame.src = url;\n",
       "        })();\n",
       "      </script>\n",
       "    "
      ],
      "text/plain": [
       "<IPython.core.display.HTML object>"
      ]
     },
     "metadata": {},
     "output_type": "display_data"
    }
   ],
   "source": [
    "%tensorboard --logdir \"temp\""
   ]
  },
  {
   "cell_type": "markdown",
   "id": "c9bac71c-643f-4265-a699-6169402ca9a1",
   "metadata": {},
   "source": [
    "# Load U-DenseNet model"
   ]
  },
  {
   "cell_type": "code",
   "execution_count": 10,
   "id": "70a21437-8b0b-473a-86a5-5e78f2bbbf1b",
   "metadata": {
    "tags": []
   },
   "outputs": [
    {
     "name": "stdout",
     "output_type": "stream",
     "text": [
      "/home/rajk/DIT/ADLR/tum-adlr-ss21-11/notebook\n",
      "Model: \"DenseNet\"\n",
      "__________________________________________________________________________________________________\n",
      "Layer (type)                    Output Shape         Param #     Connected to                     \n",
      "==================================================================================================\n",
      "image_input (InputLayer)        [(None, 64, 64, 2)]  0                                            \n",
      "__________________________________________________________________________________________________\n",
      "conv2d (Conv2D)                 (None, 64, 64, 32)   1632        image_input[0][0]                \n",
      "__________________________________________________________________________________________________\n",
      "dense_block (DenseBlock)        (None, 64, 64, 128)  56160       conv2d[0][0]                     \n",
      "__________________________________________________________________________________________________\n",
      "concatenate_3 (Concatenate)     (None, 64, 64, 160)  0           conv2d[0][0]                     \n",
      "                                                                 dense_block[0][0]                \n",
      "__________________________________________________________________________________________________\n",
      "transition_block (TransitionBlo (None, 32, 32, 16)   3216        concatenate_3[0][0]              \n",
      "__________________________________________________________________________________________________\n",
      "dense_block_1 (DenseBlock)      (None, 32, 32, 112)  42144       transition_block[0][0]           \n",
      "__________________________________________________________________________________________________\n",
      "concatenate_7 (Concatenate)     (None, 32, 32, 128)  0           transition_block[0][0]           \n",
      "                                                                 dense_block_1[0][0]              \n",
      "__________________________________________________________________________________________________\n",
      "transition_block_1 (TransitionB (None, 16, 16, 24)   3608        concatenate_7[0][0]              \n",
      "__________________________________________________________________________________________________\n",
      "dense_block_2 (DenseBlock)      (None, 16, 16, 120)  49152       transition_block_1[0][0]         \n",
      "__________________________________________________________________________________________________\n",
      "transition_block_2 (TransitionB (None, 32, 32, 28)   3868        dense_block_2[0][0]              \n",
      "__________________________________________________________________________________________________\n",
      "concatenate_11 (Concatenate)    (None, 32, 32, 156)  0           transition_block_2[0][0]         \n",
      "                                                                 concatenate_7[0][0]              \n",
      "__________________________________________________________________________________________________\n",
      "dense_block_3 (DenseBlock)      (None, 32, 32, 252)  164784      concatenate_11[0][0]             \n",
      "__________________________________________________________________________________________________\n",
      "transition_block_3 (TransitionB (None, 64, 64, 46)   12646       dense_block_3[0][0]              \n",
      "__________________________________________________________________________________________________\n",
      "concatenate_15 (Concatenate)    (None, 64, 64, 206)  0           transition_block_3[0][0]         \n",
      "                                                                 concatenate_3[0][0]              \n",
      "__________________________________________________________________________________________________\n",
      "dense_block_4 (DenseBlock)      (None, 64, 64, 302)  208584      concatenate_15[0][0]             \n",
      "__________________________________________________________________________________________________\n",
      "image_output (Conv2D)           (None, 64, 64, 1)    7551        dense_block_4[0][0]              \n",
      "==================================================================================================\n",
      "Total params: 553,345\n",
      "Trainable params: 548,461\n",
      "Non-trainable params: 4,884\n",
      "__________________________________________________________________________________________________\n"
     ]
    }
   ],
   "source": [
    "%cd \"../notebook\"\n",
    "!rm -rf \"temp\"\n",
    "tf.keras.backend.clear_session()\n",
    "denseNet = u_dense_net(input_shape, num_db=5, num_channels=32, growth_rate=32, convs_per_db=3)\n",
    "optimizer = tf.keras.optimizers.Adam(lr=3e-4)\n",
    "denseNet.compile(optimizer=optimizer, loss=soft_dice_loss)\n",
    "utils.plot_model(denseNet, show_shapes=True)    # Saves model graph as model.png\n",
    "denseNet.summary()"
   ]
  },
  {
   "cell_type": "markdown",
   "id": "4e8f547a-fd03-4ee9-abf5-8edf2ddc6e1f",
   "metadata": {},
   "source": [
    "# Train U-DenseNet model"
   ]
  },
  {
   "cell_type": "code",
   "execution_count": 11,
   "id": "74190ad6-0ad4-4dbc-b1be-eb040ec1b301",
   "metadata": {
    "tags": []
   },
   "outputs": [
    {
     "name": "stdout",
     "output_type": "stream",
     "text": [
      "Epoch 1/100\n",
      "  2/141 [..............................] - ETA: 34s - loss: 0.7984WARNING:tensorflow:Method (on_train_batch_end) is slow compared to the batch update (0.467742). Check your callbacks.\n",
      "  3/141 [..............................] - ETA: 32s - loss: 0.7636WARNING:tensorflow:Method (on_train_batch_end) is slow compared to the batch update (0.282504). Check your callbacks.\n",
      "141/141 [==============================] - 50s 352ms/step - loss: 0.5291 - val_loss: 0.9996\n",
      "Epoch 2/100\n",
      "141/141 [==============================] - 29s 207ms/step - loss: 0.4194 - val_loss: 0.9999\n",
      "Epoch 3/100\n",
      "141/141 [==============================] - 29s 207ms/step - loss: 0.3576 - val_loss: 0.8644\n",
      "Epoch 4/100\n",
      "141/141 [==============================] - 30s 210ms/step - loss: 0.3332 - val_loss: 0.6363\n",
      "Epoch 5/100\n",
      "141/141 [==============================] - 30s 212ms/step - loss: 0.3153 - val_loss: 0.5441\n",
      "Epoch 6/100\n",
      "141/141 [==============================] - 30s 211ms/step - loss: 0.3055 - val_loss: 0.3364\n",
      "Epoch 7/100\n",
      "141/141 [==============================] - 29s 207ms/step - loss: 0.2992 - val_loss: 0.3316\n",
      "Epoch 8/100\n",
      "141/141 [==============================] - 29s 205ms/step - loss: 0.2932 - val_loss: 0.3255\n",
      "Epoch 9/100\n",
      "141/141 [==============================] - 29s 205ms/step - loss: 0.2870 - val_loss: 0.3085\n",
      "Epoch 10/100\n",
      "141/141 [==============================] - 29s 208ms/step - loss: 0.2827 - val_loss: 0.3172\n",
      "Epoch 11/100\n",
      "141/141 [==============================] - 29s 206ms/step - loss: 0.2795 - val_loss: 0.3601\n",
      "Epoch 12/100\n",
      "141/141 [==============================] - 29s 207ms/step - loss: 0.2770 - val_loss: 0.3126ss: 0.277\n",
      "Epoch 13/100\n",
      "141/141 [==============================] - 29s 206ms/step - loss: 0.2724 - val_loss: 0.3120\n",
      "Epoch 14/100\n",
      "141/141 [==============================] - 29s 207ms/step - loss: 0.2722 - val_loss: 0.3285\n",
      "CPU times: user 5min 22s, sys: 17.3 s, total: 5min 40s\n",
      "Wall time: 8min 10s\n"
     ]
    }
   ],
   "source": [
    "%%time\n",
    "callbacks = [\n",
    "    tf.keras.callbacks.TensorBoard(log_dir=\"temp\"),\n",
    "    tf.keras.callbacks.EarlyStopping(monitor=\"val_loss\", mode=\"min\", patience=5)\n",
    "]\n",
    "history = denseNet.fit(train_data_gen, validation_data=validation_data_gen, epochs=100, callbacks=callbacks)"
   ]
  },
  {
   "cell_type": "markdown",
   "id": "ca265fb2-9eb9-488d-ac99-f9169bf815c5",
   "metadata": {},
   "source": [
    "# Load testing data"
   ]
  },
  {
   "cell_type": "code",
   "execution_count": 12,
   "id": "a8c3d7b2-35ae-4303-8e35-6b94136560f1",
   "metadata": {},
   "outputs": [],
   "source": [
    "test_path_rows = np.arange(n_paths, n_paths+5000, step=100)\n",
    "test_start_imgs, test_end_imgs, test_path_imgs = load_data(db_path, test_path_rows, n_voxels, n_dim)\n",
    "test_goal_imgs = test_start_imgs + test_end_imgs\n",
    "test_goal_imgs, test_path_imgs = (\n",
    "    np.expand_dims(data, axis=-1) \n",
    "    for data in (test_goal_imgs, test_path_imgs)\n",
    ")\n",
    "del test_start_imgs, test_end_imgs"
   ]
  },
  {
   "cell_type": "code",
   "execution_count": 13,
   "id": "70a2f890-ee79-4dfd-8306-0d99d5408481",
   "metadata": {
    "jupyter": {
     "source_hidden": true
    },
    "tags": []
   },
   "outputs": [],
   "source": [
    "world_indexes = test_path_rows//n_paths_per_world\n",
    "test_data = np.concatenate([obst_imgs[world_indexes], test_goal_imgs], axis=-1)\n",
    "out_data = denseNet.predict(test_data)"
   ]
  },
  {
   "cell_type": "markdown",
   "id": "f82cf04b-7919-496b-866d-2325bb93874a",
   "metadata": {},
   "source": [
    "# Visualize on test data"
   ]
  },
  {
   "cell_type": "code",
   "execution_count": 14,
   "id": "3ce80d77-b8a8-4e9f-b042-e9c55645adb5",
   "metadata": {
    "tags": []
   },
   "outputs": [
    {
     "data": {
      "image/png": "[encoded data removed]",
      "text/plain": [
       "<Figure size 1728x720 with 5 Axes>"
      ]
     },
     "metadata": {},
     "output_type": "display_data"
    }
   ],
   "source": [
    "N = 5\n",
    "path_indexes = np.random.choice(test_path_rows, size=N)\n",
    "_, axs = plt.subplots(nrows=1, ncols=N, figsize=((1+N)*4, 10))\n",
    "for path_i, ax in zip(path_indexes, axs):\n",
    "    i = np.where(test_path_rows==path_i)[0].item()\n",
    "    obst_img = obst_imgs[path_i//n_paths_per_world]\n",
    "    test_goal_img = test_goal_imgs[i]\n",
    "    test_path_img = test_path_imgs[i]\n",
    "\n",
    "    ax.imshow(obst_img[:, :, 0], origin='lower', extent=extent, cmap='binary')\n",
    "    ax.imshow(test_goal_img[:, :, 0], origin='lower', extent=extent, cmap='Greens', alpha=0.25)\n",
    "    ax.imshow(test_path_img[:, :, 0], origin='lower', extent=extent, cmap='Blues', alpha=0.25)\n",
    "    ax.imshow(out_data[i, :, :, 0], origin='lower', extent=extent, cmap='Reds', alpha=0.5)\n",
    "    ax.set_title(f\"Path index: {path_i}, World_index: {path_i//n_paths_per_world}\")\n",
    "    ax.set_xticks([])\n",
    "    ax.set_yticks([])\n",
    "plt.show()"
   ]
  },
  {
   "cell_type": "markdown",
   "id": "7b1c25a4-f468-4b5d-ac2f-9d95caadb0cd",
   "metadata": {},
   "source": [
    "# TODOs\n",
    "1. Save trained model\n",
    "2. Save prediction images from intermediate models"
   ]
  }
 ],
 "metadata": {
  "kernelspec": {
   "display_name": "Python 3",
   "language": "python",
   "name": "python3"
  },
  "language_info": {
   "codemirror_mode": {
    "name": "ipython",
    "version": 3
   },
   "file_extension": ".py",
   "mimetype": "text/x-python",
   "name": "python",
   "nbconvert_exporter": "python",
   "pygments_lexer": "ipython3",
   "version": "3.7.10"
  }
 },
 "nbformat": 4,
 "nbformat_minor": 5
}
