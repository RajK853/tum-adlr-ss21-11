{
 "cells": [
  {
   "cell_type": "code",
   "execution_count": 1,
   "id": "c67df6c3-6f03-4f03-92ba-696c2fbd4b36",
   "metadata": {},
   "outputs": [],
   "source": [
    "%load_ext tensorboard"
   ]
  },
  {
   "cell_type": "code",
   "execution_count": 2,
   "id": "0e8155e8-bd3e-4bdd-88d6-67f3286c643f",
   "metadata": {},
   "outputs": [],
   "source": [
    "import numpy as np\n",
    "import matplotlib.pyplot as plt\n",
    "import tensorflow.compat.v1 as tf\n",
    "from tensorflow.compat.v1.keras import Model, utils\n",
    "from tensorflow.compat.v1.keras.layers import Layer, Input, Conv2D, ReLU, Concatenate, BatchNormalization, AvgPool2D, UpSampling2D"
   ]
  },
  {
   "cell_type": "code",
   "execution_count": 3,
   "id": "e88aac32-c5d7-422a-a8dd-403b4944a43a",
   "metadata": {},
   "outputs": [],
   "source": [
    "class ConvBlock(Layer):\n",
    "    def __init__(self, filters, **kwargs):\n",
    "        super(ConvBlock, self).__init__(**kwargs)\n",
    "        self.filters = filters        \n",
    "        self.bn = BatchNormalization() \n",
    "        self.conv2d = Conv2D(filters=filters, kernel_size=(3, 3), padding=\"same\")\n",
    "        self.relu = ReLU()\n",
    "        self.concat = Concatenate(axis=-1)\n",
    "        \n",
    "    def call(self, x, training=False):\n",
    "        x_in = x\n",
    "        x = self.bn(x, training=training) \n",
    "        x = self.conv2d(x)\n",
    "        x = self.relu(x)\n",
    "        x_out = self.concat([x_in, x])\n",
    "        return x_out\n",
    "    \n",
    "    def get_config(self):\n",
    "        base_configs = super().get_config()\n",
    "        return {\"filters\": self.filters, **base_configs}\n",
    "    \n",
    "    @classmethod\n",
    "    def from_config(cls, config):\n",
    "        return cls(**config)\n",
    "\n",
    "class DenseBlock(Layer):    \n",
    "    def __init__(self, num_layers, filters, **kwargs):\n",
    "        super(DenseBlock, self).__init__(**kwargs)\n",
    "        self.filters = filters\n",
    "        self.num_layers = num_layers\n",
    "        self.layers = [ConvBlock(self.filters) for i in range(self.num_layers)]\n",
    "    \n",
    "    def call(self, x, training=False):\n",
    "        for layer in self.layers:\n",
    "            x = layer(x, training=training)\n",
    "        return x\n",
    "    \n",
    "    def get_config(self):\n",
    "        base_configs = super().get_config()\n",
    "        return {\"filters\": self.filters, \"num_layers\": self.num_layers, **base_configs}\n",
    "    \n",
    "    @classmethod\n",
    "    def from_config(cls, config):\n",
    "        return cls(**config)\n",
    "\n",
    "class TransitionBlock(Layer):\n",
    "    def __init__(self, filters, trans_down=True, **kwargs):\n",
    "        super(TransitionBlock, self).__init__(**kwargs)\n",
    "        self.filters = filters\n",
    "        self.trans_down = trans_down\n",
    "        \n",
    "        self.bn = BatchNormalization()\n",
    "        self.relu = ReLU()\n",
    "        self.conv2d = Conv2D(filters=filters, kernel_size=(1, 1), padding=\"same\")\n",
    "        self.pool2d = AvgPool2D(pool_size=2, strides=2) if trans_down else UpSampling2D(size=(2, 2))\n",
    "    \n",
    "    def call(self, x, training=False):\n",
    "        x = self.bn(x, training=training)\n",
    "        x = self.relu(x)\n",
    "        x = self.conv2d(x)\n",
    "        x = self.pool2d(x)\n",
    "        return x\n",
    "    \n",
    "    def get_config(self):\n",
    "        base_configs = super().get_config()\n",
    "        return {\"filters\": self.filters, \"trans_down\": self.trans_down, **base_configs}\n",
    "    \n",
    "    @classmethod\n",
    "    def from_config(cls, config):\n",
    "        return cls(**config)"
   ]
  },
  {
   "cell_type": "code",
   "execution_count": 4,
   "id": "da39196c-ab93-4d11-838c-82af12449ee9",
   "metadata": {},
   "outputs": [],
   "source": [
    "def get_denseNet(input_shape, num_db, num_channels=64, growth_rate=32, convs_per_db=3, **kwargs):\n",
    "    assert len(input_shape) == 3, f\"Input shape must have 3 dimension! Received '{input_shape}'!\"\n",
    "    assert (input_shape[0] % 2 == 0) and (input_shape[1] % 2 == 0), f\"Width and height of the image must be a even number! Received '{input_shape[:2]}'!\"\n",
    "    assert (num_db > 1) and (num_db % 2 == 1), f\"Number of DenseBlocks must be an odd number more than 1! Received '{num_db}'!\"\n",
    "    assert (num_channels > 0) and (num_channels % 2 == 0), f\"Number of channels for TransitionBlock must be an even number more than 0! Received '{num_channels}'!\"    \n",
    "    # In a U-shaped DenseNet with N DenseBlocks, each side has floor(N/2) DenseBlocks  \n",
    "    num_trans_down = num_trans_up = num_db//2\n",
    "    img_in = Input(dtype=\"float32\", shape=input_shape, name=\"image_input\")\n",
    "    x = Conv2D(growth_rate, kernel_size=(5, 5), activation=\"relu\", padding=\"same\")(img_in)\n",
    "    ############################### Transition down section ###############################\n",
    "    db_outputs = []\n",
    "    for i in range(num_trans_down):\n",
    "        x_in = x    # Save reference of input tensor for later use\n",
    "        x = DenseBlock(num_layers=convs_per_db, filters=growth_rate)(x)\n",
    "        x = Concatenate(axis=-1)([x_in, x])\n",
    "        db_outputs.insert(0, x)\n",
    "        num_channels += growth_rate*i\n",
    "        num_channels //= 2\n",
    "        x = TransitionBlock(filters=num_channels, trans_down=True)(x)\n",
    "    #################################### Mid DenseBlock ###################################\n",
    "    x = DenseBlock(num_layers=convs_per_db, filters=growth_rate)(x)\n",
    "    ################################ Transition up section ################################\n",
    "    for i in range(num_trans_up):\n",
    "        num_channels += growth_rate*(i+1)\n",
    "        num_channels //= 2\n",
    "        x = TransitionBlock(filters=num_channels, trans_down=False)(x)\n",
    "        x = Concatenate(axis=-1)([x, db_outputs[i]])\n",
    "        x = DenseBlock(num_layers=convs_per_db, filters=growth_rate)(x)\n",
    "    # TODOs: Configure output layer arguments \n",
    "    x_out = Conv2D(1, kernel_size=(5, 5), activation=\"sigmoid\", padding=\"same\", name=\"image_output\")(x)\n",
    "    model = Model(inputs=[img_in], outputs=[x_out], name=\"DenseNet\")\n",
    "    return model"
   ]
  },
  {
   "cell_type": "markdown",
   "id": "077ea3fc-5d01-4b9a-9cef-cba3b489f0ac",
   "metadata": {},
   "source": [
    "# Load data"
   ]
  },
  {
   "cell_type": "code",
   "execution_count": 5,
   "id": "d1b8bdd3-2287-47a2-bd10-bc2dbe7b3e4a",
   "metadata": {},
   "outputs": [],
   "source": [
    "input_shape = (8, 8, 1)\n",
    "sample_data = np.random.random(size=(2, *input_shape))"
   ]
  },
  {
   "cell_type": "code",
   "execution_count": 6,
   "id": "7f6202a1-6a02-4629-a4de-a1ba78a9b797",
   "metadata": {},
   "outputs": [
    {
     "data": {
      "text/plain": [
       "<matplotlib.image.AxesImage at 0x7fb5f67d8f90>"
      ]
     },
     "execution_count": 6,
     "metadata": {},
     "output_type": "execute_result"
    },
    {
     "data": {
      "image/png": "[encoded data removed]",
      "text/plain": [
       "<Figure size 432x288 with 1 Axes>"
      ]
     },
     "metadata": {
      "needs_background": "light"
     },
     "output_type": "display_data"
    }
   ],
   "source": [
    "plt.imshow(sample_data[0], cmap=\"binary\")"
   ]
  },
  {
   "cell_type": "markdown",
   "id": "b2453b72-efba-43a9-93a8-652fe80faef7",
   "metadata": {},
   "source": [
    "# Load DenseNet model"
   ]
  },
  {
   "cell_type": "code",
   "execution_count": 7,
   "id": "ba69ddf2-115a-4a5e-a5d1-be48c3d70b56",
   "metadata": {},
   "outputs": [
    {
     "name": "stdout",
     "output_type": "stream",
     "text": [
      "Model: \"DenseNet\"\n",
      "__________________________________________________________________________________________________\n",
      "Layer (type)                    Output Shape         Param #     Connected to                     \n",
      "==================================================================================================\n",
      "image_input (InputLayer)        [(None, 8, 8, 1)]    0                                            \n",
      "__________________________________________________________________________________________________\n",
      "conv2d (Conv2D)                 (None, 8, 8, 32)     832         image_input[0][0]                \n",
      "__________________________________________________________________________________________________\n",
      "dense_block (DenseBlock)        (None, 8, 8, 128)    56160       conv2d[0][0]                     \n",
      "__________________________________________________________________________________________________\n",
      "concatenate_3 (Concatenate)     (None, 8, 8, 160)    0           conv2d[0][0]                     \n",
      "                                                                 dense_block[0][0]                \n",
      "__________________________________________________________________________________________________\n",
      "transition_block (TransitionBlo (None, 4, 4, 32)     5792        concatenate_3[0][0]              \n",
      "__________________________________________________________________________________________________\n",
      "dense_block_1 (DenseBlock)      (None, 4, 4, 128)    56160       transition_block[0][0]           \n",
      "__________________________________________________________________________________________________\n",
      "concatenate_7 (Concatenate)     (None, 4, 4, 160)    0           transition_block[0][0]           \n",
      "                                                                 dense_block_1[0][0]              \n",
      "__________________________________________________________________________________________________\n",
      "transition_block_1 (TransitionB (None, 2, 2, 32)     5792        concatenate_7[0][0]              \n",
      "__________________________________________________________________________________________________\n",
      "dense_block_2 (DenseBlock)      (None, 2, 2, 128)    56160       transition_block_1[0][0]         \n",
      "__________________________________________________________________________________________________\n",
      "transition_block_2 (TransitionB (None, 4, 4, 32)     4640        dense_block_2[0][0]              \n",
      "__________________________________________________________________________________________________\n",
      "concatenate_11 (Concatenate)    (None, 4, 4, 192)    0           transition_block_2[0][0]         \n",
      "                                                                 concatenate_7[0][0]              \n",
      "__________________________________________________________________________________________________\n",
      "dense_block_3 (DenseBlock)      (None, 4, 4, 288)    196320      concatenate_11[0][0]             \n",
      "__________________________________________________________________________________________________\n",
      "transition_block_3 (TransitionB (None, 8, 8, 48)     15024       dense_block_3[0][0]              \n",
      "__________________________________________________________________________________________________\n",
      "concatenate_15 (Concatenate)    (None, 8, 8, 208)    0           transition_block_3[0][0]         \n",
      "                                                                 concatenate_3[0][0]              \n",
      "__________________________________________________________________________________________________\n",
      "dense_block_4 (DenseBlock)      (None, 8, 8, 304)    210336      concatenate_15[0][0]             \n",
      "__________________________________________________________________________________________________\n",
      "image_output (Conv2D)           (None, 8, 8, 1)      7601        dense_block_4[0][0]              \n",
      "==================================================================================================\n",
      "Total params: 614,817\n",
      "Trainable params: 609,409\n",
      "Non-trainable params: 5,408\n",
      "__________________________________________________________________________________________________\n",
      "WARNING:tensorflow:From /home/rajk/miniconda3/envs/adlr/lib/python3.7/site-packages/tensorflow/python/keras/engine/training_v1.py:2070: Model.state_updates (from tensorflow.python.keras.engine.training) is deprecated and will be removed in a future version.\n",
      "Instructions for updating:\n",
      "This property should not be used in TensorFlow 2.0, as updates are applied automatically.\n"
     ]
    }
   ],
   "source": [
    "tf.reset_default_graph()\n",
    "with tf.Session() as sess:\n",
    "    sess.run(tf.global_variables_initializer())\n",
    "    denseNet = get_denseNet(input_shape, num_db=5)\n",
    "    tf.summary.FileWriter(\"temp\", sess.graph)\n",
    "    denseNet.summary()\n",
    "    utils.plot_model(denseNet, show_shapes=True)    # Saves model graph as model.png\n",
    "    out_data = denseNet.predict(sample_data)"
   ]
  },
  {
   "cell_type": "code",
   "execution_count": 8,
   "id": "d8e1841f-5e06-4c98-a609-b241288092bb",
   "metadata": {},
   "outputs": [
    {
     "data": {
      "text/plain": [
       "<matplotlib.image.AxesImage at 0x7fb66b66c6d0>"
      ]
     },
     "execution_count": 8,
     "metadata": {},
     "output_type": "execute_result"
    },
    {
     "data": {
      "image/png": "[encoded data removed]",
      "text/plain": [
       "<Figure size 432x288 with 1 Axes>"
      ]
     },
     "metadata": {
      "needs_background": "light"
     },
     "output_type": "display_data"
    }
   ],
   "source": [
    "plt.imshow(out_data[0, :, :, 0], cmap=\"binary\")"
   ]
  },
  {
   "cell_type": "markdown",
   "id": "0dd74aa3-7583-442c-964e-01141501f0f1",
   "metadata": {},
   "source": [
    "# Visualize Graph"
   ]
  },
  {
   "cell_type": "code",
   "execution_count": 9,
   "id": "98e842b4-3746-4b2c-b8af-314c6e1ab401",
   "metadata": {
    "tags": []
   },
   "outputs": [
    {
     "data": {
      "text/html": [
       "\n",
       "      <iframe id=\"tensorboard-frame-cbb48c783e428df4\" width=\"100%\" height=\"800\" frameborder=\"0\">\n",
       "      </iframe>\n",
       "      <script>\n",
       "        (function() {\n",
       "          const frame = document.getElementById(\"tensorboard-frame-cbb48c783e428df4\");\n",
       "          const url = new URL(\"/\", window.location);\n",
       "          const port = 6006;\n",
       "          if (port) {\n",
       "            url.port = port;\n",
       "          }\n",
       "          frame.src = url;\n",
       "        })();\n",
       "      </script>\n",
       "    "
      ],
      "text/plain": [
       "<IPython.core.display.HTML object>"
      ]
     },
     "metadata": {},
     "output_type": "display_data"
    }
   ],
   "source": [
    "%tensorboard --logdir temp"
   ]
  },
  {
   "cell_type": "code",
   "execution_count": null,
   "id": "261a7d3a-61ec-4260-8faf-5bc2cd0eb71b",
   "metadata": {},
   "outputs": [],
   "source": []
  }
 ],
 "metadata": {
  "kernelspec": {
   "display_name": "Python 3",
   "language": "python",
   "name": "python3"
  },
  "language_info": {
   "codemirror_mode": {
    "name": "ipython",
    "version": 3
   },
   "file_extension": ".py",
   "mimetype": "text/x-python",
   "name": "python",
   "nbconvert_exporter": "python",
   "pygments_lexer": "ipython3",
   "version": "3.7.10"
  }
 },
 "nbformat": 4,
 "nbformat_minor": 5
}
