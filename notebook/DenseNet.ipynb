{
 "cells": [
  {
   "cell_type": "code",
   "execution_count": 1,
   "id": "0e8155e8-bd3e-4bdd-88d6-67f3286c643f",
   "metadata": {},
   "outputs": [],
   "source": [
    "import numpy as np\n",
    "import matplotlib.pyplot as plt\n",
    "import tensorflow.compat.v1 as tf\n",
    "from tensorflow.compat.v1.keras import Model, utils\n",
    "from tensorflow.compat.v1.keras.layers import Layer, Input, Conv2D, ReLU, Concatenate, BatchNormalization, MaxPool2D, AvgPool2D, UpSampling2D"
   ]
  },
  {
   "cell_type": "code",
   "execution_count": 2,
   "id": "e88aac32-c5d7-422a-a8dd-403b4944a43a",
   "metadata": {},
   "outputs": [],
   "source": [
    "class ConvBlock(Layer):\n",
    "    def __init__(self, filters, **kwargs):\n",
    "        super(ConvBlock, self).__init__(**kwargs)\n",
    "        self.filters = filters        \n",
    "        with tf.variable_scope(self.name):\n",
    "            self.bn = BatchNormalization() \n",
    "            self.conv2d = Conv2D(filters=filters, kernel_size=(3, 3), padding=\"same\")\n",
    "            self.relu = ReLU()\n",
    "            self.concat = Concatenate(axis=-1)\n",
    "        \n",
    "    def call(self, x, training=False):\n",
    "        x_in = x\n",
    "        x = self.bn(x, training=training) \n",
    "        x = self.conv2d(x)\n",
    "        x = self.relu(x)\n",
    "        x_out = self.concat([x_in, x])\n",
    "        return x_out\n",
    "    \n",
    "    def get_config(self):\n",
    "        return {}\n",
    "\n",
    "class DenseBlock(Layer):    \n",
    "    def __init__(self, num_layers, filters, **kwargs):\n",
    "        super(DenseBlock, self).__init__(**kwargs)\n",
    "        self.filters = filters\n",
    "        self.num_layers = num_layers\n",
    "        with tf.variable_scope(self.name):\n",
    "            self.layers = [ConvBlock(self.filters) for i in range(self.num_layers)]\n",
    "    \n",
    "    def call(self, x, training=False):\n",
    "        for layer in self.layers:\n",
    "            x = layer(x, training=training)\n",
    "        return x\n",
    "    \n",
    "    def get_config(self):\n",
    "        return {}\n",
    "\n",
    "class TransitionBlock(Layer):\n",
    "    def __init__(self, filters, trans_down=True, **kwargs):\n",
    "        super(TransitionBlock, self).__init__(**kwargs)\n",
    "        self.filters = filters\n",
    "        self.trans_down = trans_down\n",
    "        with tf.variable_scope(self.name):\n",
    "            self.bn = BatchNormalization()\n",
    "            self.relu = ReLU()\n",
    "            self.conv2d = Conv2D(filters=filters, kernel_size=(1, 1), padding=\"same\")\n",
    "            self.pool2d = AvgPool2D(pool_size=2, strides=2) if trans_down else UpSampling2D(size=(2, 2))\n",
    "    \n",
    "    def call(self, x, training=False):\n",
    "        x = self.bn(x, training=training)\n",
    "        x = self.relu(x)\n",
    "        x = self.conv2d(x)\n",
    "        x = self.pool2d(x)\n",
    "        return x\n",
    "    \n",
    "    def get_config(self):\n",
    "        return {}"
   ]
  },
  {
   "cell_type": "code",
   "execution_count": 13,
   "id": "da39196c-ab93-4d11-838c-82af12449ee9",
   "metadata": {},
   "outputs": [],
   "source": [
    "def get_denseNet(input_shape, num_db, num_channels=64, growth_rate=32, convs_per_db=3, model_name=\"DenseNet\", **kwargs):\n",
    "    assert len(input_shape) > 1\n",
    "    assert (input_shape[0] % 2 == 0) and (input_shape[1] % 2 == 0)\n",
    "    assert (num_db > 1) and (num_db % 2 == 1)\n",
    "    assert (num_channels > 0) and (num_channels % 2 == 0)\n",
    "    \n",
    "    num_trans_down = num_trans_up = num_db//2\n",
    "    db_outputs = []\n",
    "    \n",
    "    img_in = Input(dtype=\"float32\", shape=input_shape, name=\"image_input\")\n",
    "    x = Conv2D(growth_rate, kernel_size=(5, 5), activation=\"relu\", padding=\"same\")(img_in)\n",
    "    # Transition down section\n",
    "    for i in range(num_trans_down):\n",
    "        x_in = x\n",
    "        x = DenseBlock(num_layers=convs_per_db, filters=growth_rate)(x)\n",
    "        x = Concatenate(axis=-1)([x_in, x])\n",
    "        db_outputs.insert(0, x)\n",
    "        num_channels += growth_rate*i\n",
    "        num_channels //= 2\n",
    "        x = TransitionBlock(filters=num_channels, trans_down=True)(x)\n",
    "    # Mid DenseBlock\n",
    "    x = DenseBlock(num_layers=convs_per_db, filters=growth_rate)(x)\n",
    "    # Transition up section\n",
    "    for i in range(num_trans_up):\n",
    "        num_channels += growth_rate*(i+1)\n",
    "        num_channels //= 2\n",
    "        x = TransitionBlock(filters=num_channels, trans_down=False)(x)\n",
    "        x = Concatenate(axis=-1)([x, db_outputs[i]])\n",
    "        x = DenseBlock(num_layers=convs_per_db, filters=growth_rate)(x)\n",
    "    # TODOs: Configure output layer arguments \n",
    "    x_out = Conv2D(1, kernel_size=(5, 5), activation=\"sigmoid\", padding=\"same\", name=\"image_output\")(x)\n",
    "    model = Model(inputs=[img_in], outputs=[x_out], name=model_name)\n",
    "    return model"
   ]
  },
  {
   "cell_type": "code",
   "execution_count": 14,
   "id": "d1b8bdd3-2287-47a2-bd10-bc2dbe7b3e4a",
   "metadata": {},
   "outputs": [],
   "source": [
    "input_shape = (8, 8, 1)\n",
    "data = np.random.random(size=(2, *input_shape))"
   ]
  },
  {
   "cell_type": "code",
   "execution_count": 15,
   "id": "7f6202a1-6a02-4629-a4de-a1ba78a9b797",
   "metadata": {},
   "outputs": [
    {
     "data": {
      "text/plain": [
       "<matplotlib.image.AxesImage at 0x7fe255b52bd0>"
      ]
     },
     "execution_count": 15,
     "metadata": {},
     "output_type": "execute_result"
    },
    {
     "data": {
      "image/png": "[encoded data removed]",
      "text/plain": [
       "<Figure size 432x288 with 1 Axes>"
      ]
     },
     "metadata": {
      "needs_background": "light"
     },
     "output_type": "display_data"
    }
   ],
   "source": [
    "plt.imshow(data[0], cmap=\"binary\")"
   ]
  },
  {
   "cell_type": "code",
   "execution_count": 18,
   "id": "ba69ddf2-115a-4a5e-a5d1-be48c3d70b56",
   "metadata": {},
   "outputs": [
    {
     "name": "stdout",
     "output_type": "stream",
     "text": [
      "Model: \"DenseNet\"\n",
      "__________________________________________________________________________________________________\n",
      "Layer (type)                    Output Shape         Param #     Connected to                     \n",
      "==================================================================================================\n",
      "image_input (InputLayer)        [(None, 8, 8, 1)]    0                                            \n",
      "__________________________________________________________________________________________________\n",
      "conv2d (Conv2D)                 (None, 8, 8, 32)     832         image_input[0][0]                \n",
      "__________________________________________________________________________________________________\n",
      "dense_block (DenseBlock)        (None, 8, 8, 128)    56160       conv2d[0][0]                     \n",
      "__________________________________________________________________________________________________\n",
      "concatenate_3 (Concatenate)     (None, 8, 8, 160)    0           conv2d[0][0]                     \n",
      "                                                                 dense_block[0][0]                \n",
      "__________________________________________________________________________________________________\n",
      "transition_block (TransitionBlo (None, 4, 4, 32)     5792        concatenate_3[0][0]              \n",
      "__________________________________________________________________________________________________\n",
      "dense_block_1 (DenseBlock)      (None, 4, 4, 128)    56160       transition_block[0][0]           \n",
      "__________________________________________________________________________________________________\n",
      "concatenate_7 (Concatenate)     (None, 4, 4, 160)    0           transition_block[0][0]           \n",
      "                                                                 dense_block_1[0][0]              \n",
      "__________________________________________________________________________________________________\n",
      "transition_block_1 (TransitionB (None, 2, 2, 32)     5792        concatenate_7[0][0]              \n",
      "__________________________________________________________________________________________________\n",
      "dense_block_2 (DenseBlock)      (None, 2, 2, 128)    56160       transition_block_1[0][0]         \n",
      "__________________________________________________________________________________________________\n",
      "transition_block_2 (TransitionB (None, 4, 4, 32)     4640        dense_block_2[0][0]              \n",
      "__________________________________________________________________________________________________\n",
      "concatenate_11 (Concatenate)    (None, 4, 4, 192)    0           transition_block_2[0][0]         \n",
      "                                                                 concatenate_7[0][0]              \n",
      "__________________________________________________________________________________________________\n",
      "dense_block_3 (DenseBlock)      (None, 4, 4, 288)    196320      concatenate_11[0][0]             \n",
      "__________________________________________________________________________________________________\n",
      "transition_block_3 (TransitionB (None, 8, 8, 48)     15024       dense_block_3[0][0]              \n",
      "__________________________________________________________________________________________________\n",
      "concatenate_15 (Concatenate)    (None, 8, 8, 208)    0           transition_block_3[0][0]         \n",
      "                                                                 concatenate_3[0][0]              \n",
      "__________________________________________________________________________________________________\n",
      "dense_block_4 (DenseBlock)      (None, 8, 8, 304)    210336      concatenate_15[0][0]             \n",
      "__________________________________________________________________________________________________\n",
      "image_output (Conv2D)           (None, 8, 8, 1)      7601        dense_block_4[0][0]              \n",
      "==================================================================================================\n",
      "Total params: 614,817\n",
      "Trainable params: 609,409\n",
      "Non-trainable params: 5,408\n",
      "__________________________________________________________________________________________________\n"
     ]
    }
   ],
   "source": [
    "tf.reset_default_graph()\n",
    "with tf.Session() as sess:\n",
    "    sess.run(tf.global_variables_initializer())\n",
    "    denseNet = get_denseNet(input_shape, num_db=5)\n",
    "    tf.summary.FileWriter(\"temp\", sess.graph)\n",
    "    denseNet.summary()\n",
    "    utils.plot_model(denseNet, show_shapes=True)\n",
    "    out_data = denseNet.predict(data)"
   ]
  },
  {
   "cell_type": "code",
   "execution_count": 19,
   "id": "d8e1841f-5e06-4c98-a609-b241288092bb",
   "metadata": {},
   "outputs": [
    {
     "data": {
      "text/plain": [
       "<matplotlib.image.AxesImage at 0x7fe255bbe4d0>"
      ]
     },
     "execution_count": 19,
     "metadata": {},
     "output_type": "execute_result"
    },
    {
     "data": {
      "image/png": "[encoded data removed]",
      "text/plain": [
       "<Figure size 432x288 with 1 Axes>"
      ]
     },
     "metadata": {
      "needs_background": "light"
     },
     "output_type": "display_data"
    }
   ],
   "source": [
    "plt.imshow(out_data[0, :, :, 0], cmap=\"binary\")"
   ]
  },
  {
   "cell_type": "code",
   "execution_count": 20,
   "id": "98e842b4-3746-4b2c-b8af-314c6e1ab401",
   "metadata": {
    "tags": []
   },
   "outputs": [
    {
     "name": "stdout",
     "output_type": "stream",
     "text": [
      "The tensorboard extension is already loaded. To reload it, use:\n",
      "  %reload_ext tensorboard\n"
     ]
    },
    {
     "data": {
      "text/plain": [
       "Reusing TensorBoard on port 6007 (pid 18842), started 0:03:09 ago. (Use '!kill 18842' to kill it.)"
      ]
     },
     "metadata": {},
     "output_type": "display_data"
    },
    {
     "data": {
      "text/html": [
       "\n",
       "      <iframe id=\"tensorboard-frame-9064ef58e032591f\" width=\"100%\" height=\"800\" frameborder=\"0\">\n",
       "      </iframe>\n",
       "      <script>\n",
       "        (function() {\n",
       "          const frame = document.getElementById(\"tensorboard-frame-9064ef58e032591f\");\n",
       "          const url = new URL(\"/\", window.location);\n",
       "          const port = 6007;\n",
       "          if (port) {\n",
       "            url.port = port;\n",
       "          }\n",
       "          frame.src = url;\n",
       "        })();\n",
       "      </script>\n",
       "    "
      ],
      "text/plain": [
       "<IPython.core.display.HTML object>"
      ]
     },
     "metadata": {},
     "output_type": "display_data"
    }
   ],
   "source": [
    "%load_ext tensorboard\n",
    "%tensorboard --logdir temp"
   ]
  },
  {
   "cell_type": "code",
   "execution_count": null,
   "id": "261a7d3a-61ec-4260-8faf-5bc2cd0eb71b",
   "metadata": {},
   "outputs": [],
   "source": []
  }
 ],
 "metadata": {
  "kernelspec": {
   "display_name": "Python 3",
   "language": "python",
   "name": "python3"
  },
  "language_info": {
   "codemirror_mode": {
    "name": "ipython",
    "version": 3
   },
   "file_extension": ".py",
   "mimetype": "text/x-python",
   "name": "python",
   "nbconvert_exporter": "python",
   "pygments_lexer": "ipython3",
   "version": "3.7.10"
  }
 },
 "nbformat": 4,
 "nbformat_minor": 5
}
