{
 "cells": [
  {
   "cell_type": "markdown",
   "id": "a046f5f3",
   "metadata": {},
   "source": [
    "# Interactive plot\n",
    "> The interactive plot does not work in Jupyter Lab because `%matplotlib notebook` is not supported there. So execute this notebook in Jupyter Notebook instead."
   ]
  },
  {
   "cell_type": "code",
   "execution_count": null,
   "id": "f0b7f265-d60e-44db-b71e-0495c68e4c93",
   "metadata": {},
   "outputs": [],
   "source": [
    "%matplotlib notebook\n",
    "import os\n",
    "import numpy as np\n",
    "import matplotlib.pyplot as plt\n",
    "import tensorflow.compat.v1 as tf"
   ]
  },
  {
   "cell_type": "code",
   "execution_count": null,
   "id": "2954f48f",
   "metadata": {},
   "outputs": [],
   "source": [
    "# Change directory to src to import functions from load.py\n",
    "%cd \"../src\"\n",
    "from load import get_values_sql, compressed2img, object2numeric_array"
   ]
  },
  {
   "cell_type": "markdown",
   "id": "e1bf072d",
   "metadata": {},
   "source": [
    "## Global variables"
   ]
  },
  {
   "cell_type": "code",
   "execution_count": null,
   "id": "6cf89515",
   "metadata": {},
   "outputs": [],
   "source": [
    "db_path = r\"../Worlds.db\"\n",
    "n_voxels = 64\n",
    "voxel_size = 10 / 64     # in m\n",
    "extent = [0, 10, 0, 10]  # in m\n",
    "n_dim = 2\n",
    "\n",
    "POINT = np.array([\n",
    "    [0, 1, 1, 1, 0],\n",
    "    [1, 1, 1, 1, 1],\n",
    "    [1, 1, 1, 1, 1],\n",
    "    [1, 1, 1, 1, 1],\n",
    "    [0, 1, 1, 1, 0],\n",
    "], dtype=np.bool_)\n"
   ]
  },
  {
   "cell_type": "code",
   "execution_count": null,
   "id": "702ebc21",
   "metadata": {},
   "outputs": [],
   "source": [
    "worlds = get_values_sql(file=db_path, table='worlds')\n",
    "obstacle_images = compressed2img(img_cmp=worlds.obst_img_cmp.values, n_voxels=n_voxels, n_dim=n_dim)\n",
    "print(f\"Obstacle images dimension: {obstacle_images.shape}\")"
   ]
  },
  {
   "cell_type": "markdown",
   "id": "53d30ded",
   "metadata": {},
   "source": [
    "## Local functions"
   ]
  },
  {
   "cell_type": "code",
   "execution_count": null,
   "id": "2a04c442",
   "metadata": {},
   "outputs": [],
   "source": [
    "def get_point_img(x, y, img_shape):\n",
    "    r = POINT.shape[0]//2\n",
    "    x = min(max(r, x), img_shape[0]-r-1)\n",
    "    y = min(max(r, y), img_shape[1]-r-1)\n",
    "    img = np.zeros(img_shape, dtype=np.bool_)\n",
    "    \n",
    "    img[y-r:y+r+1, x-r:x+r+1] = POINT\n",
    "    \n",
    "    return np.expand_dims(img, axis=-1)\n",
    "\n",
    "def generate_img(img_obst, img_start, img_end, img_path):\n",
    "    img_shape = (*img_obst.shape[:-1], 3)\n",
    "\n",
    "    img = np.full(img_shape, 1-img_obst, dtype=np.float32)\n",
    "    img[:, :, [1, 2]] -= img_start                  # Start pos in red channel\n",
    "    img[:, :, [0, 2]] -= img_end                    # End pos in green channel\n",
    "    img[:, :, [1, 2]] -= 0.75*img_path              # Predicted path in red channel\n",
    "    np.clip(img, 0.0, 1.0, out=img)\n",
    "    return img\n",
    "\n",
    "def plot_img(ax, img, path_vector=None, xticks=None, yticks=None):\n",
    "    ax.clear()\n",
    "    ax.imshow(img, origin=\"lower\", extent=extent)\n",
    "    if path_vector is not None:\n",
    "        py, px = path_vector.T\n",
    "        ax.plot(px, py, color=\"y\", marker=\"o\")\n",
    "    if xticks is not None:\n",
    "        ax.set_xticks(xticks)\n",
    "    if yticks is not None:\n",
    "        ax.set_yticks(yticks)\n",
    "    ax.grid(True, alpha=0.25)\n",
    "    plt.show()"
   ]
  },
  {
   "cell_type": "markdown",
   "id": "e5644986",
   "metadata": {},
   "source": [
    "## Loading pretrained model"
   ]
  },
  {
   "cell_type": "code",
   "execution_count": null,
   "id": "0a7aa913",
   "metadata": {},
   "outputs": [],
   "source": [
    "# model_path = r\"../results/soft_dice_17.06.2021_06.21/model.tf\"\n",
    "# model_path = r\"../results/tversky_27.07.2021_23.16/model.tf/\"\n",
    "model_path = r\"../results/focal_31.07.2021_14.00/model.tf/\"\n",
    "# model_path = r\"../results/combined_loss_13.07.2021_13.34/model.tf\"\n",
    "tf.keras.backend.clear_session()\n",
    "model = tf.keras.models.load_model(model_path, compile=False)"
   ]
  },
  {
   "cell_type": "markdown",
   "id": "bece65f5",
   "metadata": {},
   "source": [
    "We have two types of U-DenseNet models:\n",
    "1. Image-to-image model\n",
    "2. Image-to-coordinate model with auxiliary output (path coordinates)  \n",
    "\n",
    "Based on the model type, we describe the pre- and postprocessing functions in the cell below. "
   ]
  },
  {
   "cell_type": "code",
   "execution_count": null,
   "id": "3dabe44b",
   "metadata": {},
   "outputs": [],
   "source": [
    "if len(model.outputs) == 1:                          # Image-to-Image model\n",
    "    prepare_input = lambda o, s, e: np.array([np.concatenate([o, s + e], axis=-1)])\n",
    "    process_output = lambda x: (x[0], None)\n",
    "else:                                                # Image-to-Coordinate model\n",
    "    prepare_input = lambda o, s, e: np.array([np.concatenate([o, s, e], axis=-1)])\n",
    "    process_output = lambda x: (x[0][0], x[1][0])"
   ]
  },
  {
   "cell_type": "code",
   "execution_count": null,
   "id": "47a6995b",
   "metadata": {},
   "outputs": [],
   "source": [
    "img_shape = (n_voxels, n_voxels)\n",
    "xticks = yticks = np.arange(extent[1]+1)\n",
    "start_point = (3, 3)\n",
    "end_point = (6, 6)"
   ]
  },
  {
   "cell_type": "markdown",
   "id": "df48a31c",
   "metadata": {},
   "source": [
    "## Interactive plot\n",
    "In the plot below, you can click on the image to specify <span style=\"color:red\">start</span> and <span style=\"color:green\">end</span> points.  \n",
    "\n",
    "### Controls\n",
    "- **Left-click**: assigns the start point \n",
    "- **Wheel-click**: changes the obstacle configuration\n",
    "- **Right-click**: assigns the end point."
   ]
  },
  {
   "cell_type": "code",
   "execution_count": null,
   "id": "49d8e004",
   "metadata": {},
   "outputs": [],
   "source": [
    "fig, ax = plt.subplots(figsize=(6, 6))\n",
    "\n",
    "world_index = np.random.choice(len(obstacle_images))\n",
    "obst_img = np.expand_dims(obstacle_images[world_index], axis=-1)\n",
    "# Generate start, end and path images\n",
    "start_img = get_point_img(*start_point, img_shape)\n",
    "end_img = get_point_img(*end_point, img_shape)\n",
    "input_img = prepare_input(obst_img, start_img, end_img)\n",
    "output = model.predict(input_img)\n",
    "path_img, path_vector = process_output(output)\n",
    "\n",
    "# Generate a single image from obstacle, start, end and path images\n",
    "img = generate_img(obst_img, start_img, end_img, path_img)\n",
    "plot_img(ax, img, path_vector, xticks, yticks)\n",
    "\n",
    "\n",
    "def onclick(event):\n",
    "    \"\"\"\n",
    "    Callback function to handle mouse event on the image\n",
    "    \"\"\"\n",
    "    global obst_img, start_point, end_point, start_img, end_img, path_img\n",
    "    e = event\n",
    "    # Convert [0 - 10] coordinate values into [0 - 64] pixel values\n",
    "    x = round(event.xdata/voxel_size)\n",
    "    y = round(event.ydata/voxel_size)\n",
    "    \n",
    "    # Assign given xy coordinate to start or end point\n",
    "    if event.button == 1:               # Left click\n",
    "        start_point = (x, y)\n",
    "        start_img = get_point_img(*start_point, img_shape)\n",
    "    elif event.button == 2:             # Wheel click \n",
    "        world_index = np.random.choice(len(obstacle_images))\n",
    "        obst_img = np.expand_dims(obstacle_images[world_index], axis=-1)\n",
    "    elif event.button == 3:             # Right click\n",
    "        end_point = (x, y)\n",
    "        end_img = get_point_img(*end_point, img_shape)\n",
    "        \n",
    "    input_img = prepare_input(obst_img, start_img, end_img)\n",
    "    output = model.predict(input_img)\n",
    "    path_img, path_vector = process_output(output)\n",
    "    \n",
    "    img = generate_img(obst_img, start_img, end_img, path_img)\n",
    "    plot_img(ax, img, path_vector, xticks, yticks)\n",
    "    \n",
    "# Create an hard reference to the callback not to be cleared by the garbage collector\n",
    "ka = fig.canvas.mpl_connect('button_press_event', onclick)"
   ]
  },
  {
   "cell_type": "code",
   "execution_count": null,
   "id": "ed99b5c8",
   "metadata": {},
   "outputs": [],
   "source": []
  }
 ],
 "metadata": {
  "kernelspec": {
   "display_name": "Python 3",
   "language": "python",
   "name": "python3"
  },
  "language_info": {
   "codemirror_mode": {
    "name": "ipython",
    "version": 3
   },
   "file_extension": ".py",
   "mimetype": "text/x-python",
   "name": "python",
   "nbconvert_exporter": "python",
   "pygments_lexer": "ipython3",
   "version": "3.7.10"
  }
 },
 "nbformat": 4,
 "nbformat_minor": 5
}
