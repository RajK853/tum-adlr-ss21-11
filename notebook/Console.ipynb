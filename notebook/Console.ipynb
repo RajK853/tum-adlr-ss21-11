{
 "cells": [
  {
   "cell_type": "markdown",
   "id": "8030f21b",
   "metadata": {
    "colab_type": "text",
    "id": "view-in-github"
   },
   "source": [
    "<a href=\"https://colab.research.google.com/github/RajK853/tum-adlr-ss21-11/blob/main/notebook/Console.ipynb\" target=\"_parent\"><img src=\"https://colab.research.google.com/assets/colab-badge.svg\" alt=\"Open In Colab\"/></a>"
   ]
  },
  {
   "cell_type": "markdown",
   "id": "aacc3dc0-5c05-4423-a6c4-5604bbeb67c2",
   "metadata": {
    "id": "aacc3dc0-5c05-4423-a6c4-5604bbeb67c2"
   },
   "source": [
    "## Load Tensorflow\n",
    "In Google Colab, tensorflow can be easily selected using the given magic command:"
   ]
  },
  {
   "cell_type": "code",
   "execution_count": null,
   "id": "d1eda636-9047-4ed3-84bc-05a8060894d4",
   "metadata": {
    "id": "d1eda636-9047-4ed3-84bc-05a8060894d4"
   },
   "outputs": [],
   "source": [
    "%tensorflow_version 2.x"
   ]
  },
  {
   "cell_type": "markdown",
   "id": "LgOI2B7w2_lq",
   "metadata": {
    "id": "LgOI2B7w2_lq"
   },
   "source": [
    "## Supress Tensorflow logs"
   ]
  },
  {
   "cell_type": "code",
   "execution_count": null,
   "id": "5koBtc-l27E0",
   "metadata": {
    "id": "5koBtc-l27E0"
   },
   "outputs": [],
   "source": [
    "import os\n",
    "os.environ['TF_CPP_MIN_LOG_LEVEL'] = '3'"
   ]
  },
  {
   "cell_type": "markdown",
   "id": "9c272a3b-f35d-4c96-a833-c8423d031cab",
   "metadata": {
    "id": "9c272a3b-f35d-4c96-a833-c8423d031cab"
   },
   "source": [
    "## Cloning the repo\n",
    "The shell command below clones the git repo if the local repo directory does not exit. Otherwise, it simply pulls the updated version."
   ]
  },
  {
   "cell_type": "code",
   "execution_count": null,
   "id": "d73a549c-cc7c-4673-9432-511d7f085914",
   "metadata": {
    "id": "d73a549c-cc7c-4673-9432-511d7f085914"
   },
   "outputs": [],
   "source": [
    "%%shell\n",
    "REPOSRC=https://github.com/RajK853/tum-adlr-ss21-11.git\n",
    "LOCALREPO=/adlr\n",
    "LOCALREPO_VC_DIR=$LOCALREPO/.git\n",
    " \n",
    "if [ ! -d $LOCALREPO_VC_DIR ]\n",
    "then\n",
    "    git clone $REPOSRC $LOCALREPO      # Git clone repo\n",
    "else\n",
    "    cd $LOCALREPO\n",
    "    git pull $REPOSRC                  # Git pull repo\n",
    "fi"
   ]
  },
  {
   "cell_type": "markdown",
   "id": "85fbd882-e665-43bd-98f7-7766cd952f4b",
   "metadata": {
    "id": "85fbd882-e665-43bd-98f7-7766cd952f4b"
   },
   "source": [
    "## Mount Google Drive\n",
    "Mount your Google drive to access the data set located in your Google drive."
   ]
  },
  {
   "cell_type": "code",
   "execution_count": null,
   "id": "f1ff6f92-4630-4f51-8fd0-93b2559d5a54",
   "metadata": {
    "id": "f1ff6f92-4630-4f51-8fd0-93b2559d5a54"
   },
   "outputs": [],
   "source": [
    "from google.colab import drive\n",
    "drive.mount(\"/content/drive\")"
   ]
  },
  {
   "cell_type": "markdown",
   "id": "1XzK73dC3zf2",
   "metadata": {
    "id": "1XzK73dC3zf2"
   },
   "source": [
    "## Setting database path"
   ]
  },
  {
   "cell_type": "code",
   "execution_count": null,
   "id": "9NTJFjmH3zuM",
   "metadata": {
    "id": "9NTJFjmH3zuM"
   },
   "outputs": [],
   "source": [
    "os.environ[\"DB_PATH\"]=r\"/content/drive/MyDrive/ADLR_Data_Set/SingleSphere02.db\""
   ]
  },
  {
   "cell_type": "markdown",
   "id": "ff1adde2-a16e-469c-b29c-ae374159ca22",
   "metadata": {
    "id": "ff1adde2-a16e-469c-b29c-ae374159ca22"
   },
   "source": [
    "## Setting the working directory\n"
   ]
  },
  {
   "cell_type": "code",
   "execution_count": null,
   "id": "9769e38a-0c23-4d10-8550-a962450b47bb",
   "metadata": {
    "id": "9769e38a-0c23-4d10-8550-a962450b47bb"
   },
   "outputs": [],
   "source": [
    "%cd /adlr"
   ]
  },
  {
   "cell_type": "markdown",
   "id": "awzBM_XkzXK_",
   "metadata": {
    "id": "awzBM_XkzXK_"
   },
   "source": [
    "## Load Tensorboard\n",
    "We can use the Tensorboard to monitor the model graphs and training metrics in real time."
   ]
  },
  {
   "cell_type": "code",
   "execution_count": null,
   "id": "-ihD0EhUzNOS",
   "metadata": {
    "id": "-ihD0EhUzNOS"
   },
   "outputs": [],
   "source": [
    "%load_ext tensorboard"
   ]
  },
  {
   "cell_type": "code",
   "execution_count": null,
   "id": "pWelylvAzbhs",
   "metadata": {
    "id": "pWelylvAzbhs"
   },
   "outputs": [],
   "source": [
    "%tensorboard --logdir \"results\""
   ]
  },
  {
   "cell_type": "markdown",
   "id": "CqATDIrd4JVI",
   "metadata": {
    "id": "CqATDIrd4JVI"
   },
   "source": [
    "## Executing the scripts\n",
    "Use the cell below to execute the Python scripts."
   ]
  },
  {
   "cell_type": "code",
   "execution_count": null,
   "id": "49474d14-91f9-4294-a738-adfa68786b3b",
   "metadata": {
    "id": "49474d14-91f9-4294-a738-adfa68786b3b"
   },
   "outputs": [],
   "source": [
    "%%time\n",
    "!python train_image2image_model.py configs/u_dense_net_losses/combined_loss.yaml"
   ]
  },
  {
   "cell_type": "markdown",
   "id": "tCPaezLzYG1Z",
   "metadata": {
    "id": "tCPaezLzYG1Z"
   },
   "source": [
    "## Download results\n",
    "To download the `results` directory from the Colab, we need to zip it."
   ]
  },
  {
   "cell_type": "code",
   "execution_count": null,
   "id": "9HL4907sMwbi",
   "metadata": {
    "id": "9HL4907sMwbi"
   },
   "outputs": [],
   "source": [
    "from google.colab import files\n",
    "!zip -r /adlr/results.zip /adlr/results\n",
    "files.download(r\"/adlr/results.zip\")"
   ]
  }
 ],
 "metadata": {
  "accelerator": "GPU",
  "colab": {
   "include_colab_link": true,
   "name": "Console.ipynb",
   "provenance": []
  },
  "kernelspec": {
   "display_name": "Python 3",
   "language": "python",
   "name": "python3"
  },
  "language_info": {
   "codemirror_mode": {
    "name": "ipython",
    "version": 3
   },
   "file_extension": ".py",
   "mimetype": "text/x-python",
   "name": "python",
   "nbconvert_exporter": "python",
   "pygments_lexer": "ipython3",
   "version": "3.7.10"
  }
 },
 "nbformat": 4,
 "nbformat_minor": 5
}
