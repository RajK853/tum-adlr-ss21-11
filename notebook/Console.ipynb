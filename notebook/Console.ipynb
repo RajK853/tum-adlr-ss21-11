{
  "nbformat": 4,
  "nbformat_minor": 5,
  "metadata": {
    "kernelspec": {
      "display_name": "Python 3",
      "language": "python",
      "name": "python3"
    },
    "language_info": {
      "codemirror_mode": {
        "name": "ipython",
        "version": 3
      },
      "file_extension": ".py",
      "mimetype": "text/x-python",
      "name": "python",
      "nbconvert_exporter": "python",
      "pygments_lexer": "ipython3",
      "version": "3.7.10"
    },
    "colab": {
      "name": "Console.ipynb",
      "provenance": [],
      "include_colab_link": true
    },
    "accelerator": "GPU"
  },
  "cells": [
    {
      "cell_type": "markdown",
      "metadata": {
        "id": "view-in-github",
        "colab_type": "text"
      },
      "source": [
        "<a href=\"https://colab.research.google.com/github/RajK853/tum-adlr-ss21-11/blob/main/notebook/Console.ipynb\" target=\"_parent\"><img src=\"https://colab.research.google.com/assets/colab-badge.svg\" alt=\"Open In Colab\"/></a>"
      ]
    },
    {
      "cell_type": "markdown",
      "metadata": {
        "id": "aacc3dc0-5c05-4423-a6c4-5604bbeb67c2"
      },
      "source": [
        "## Load Tensorflow\n",
        "In Google Colab, tensorflow can be easily selected using the given magic command:"
      ],
      "id": "aacc3dc0-5c05-4423-a6c4-5604bbeb67c2"
    },
    {
      "cell_type": "code",
      "metadata": {
        "id": "d1eda636-9047-4ed3-84bc-05a8060894d4"
      },
      "source": [
        "%tensorflow_version 2.x"
      ],
      "id": "d1eda636-9047-4ed3-84bc-05a8060894d4",
      "execution_count": null,
      "outputs": []
    },
    {
      "cell_type": "markdown",
      "metadata": {
        "id": "LgOI2B7w2_lq"
      },
      "source": [
        "## Supress Tensorflow logs"
      ],
      "id": "LgOI2B7w2_lq"
    },
    {
      "cell_type": "code",
      "metadata": {
        "id": "5koBtc-l27E0"
      },
      "source": [
        "import os\n",
        "os.environ['TF_CPP_MIN_LOG_LEVEL'] = '3'"
      ],
      "id": "5koBtc-l27E0",
      "execution_count": null,
      "outputs": []
    },
    {
      "cell_type": "markdown",
      "metadata": {
        "id": "9c272a3b-f35d-4c96-a833-c8423d031cab"
      },
      "source": [
        "## Cloning the repo\n",
        "The shell command below clones the git repo if the local repo directory does not exit. Otherwise, it simply pulls the updated version."
      ],
      "id": "9c272a3b-f35d-4c96-a833-c8423d031cab"
    },
    {
      "cell_type": "code",
      "metadata": {
        "id": "d73a549c-cc7c-4673-9432-511d7f085914"
      },
      "source": [
        "%%shell\n",
        "REPOSRC=https://github.com/RajK853/tum-adlr-ss21-11.git\n",
        "LOCALREPO=/adlr\n",
        "LOCALREPO_VC_DIR=$LOCALREPO/.git\n",
        " \n",
        "if [ ! -d $LOCALREPO_VC_DIR ]\n",
        "then\n",
        "    git clone $REPOSRC $LOCALREPO      # Git clone repo\n",
        "else\n",
        "    cd $LOCALREPO\n",
        "    git pull $REPOSRC                  # Git pull repo\n",
        "fi"
      ],
      "id": "d73a549c-cc7c-4673-9432-511d7f085914",
      "execution_count": null,
      "outputs": []
    },
    {
      "cell_type": "markdown",
      "metadata": {
        "id": "85fbd882-e665-43bd-98f7-7766cd952f4b"
      },
      "source": [
        "## Mount Google Drive\n",
        "Mount your Google drive to access the data set located in your Google drive."
      ],
      "id": "85fbd882-e665-43bd-98f7-7766cd952f4b"
    },
    {
      "cell_type": "code",
      "metadata": {
        "id": "f1ff6f92-4630-4f51-8fd0-93b2559d5a54"
      },
      "source": [
        "from google.colab import drive\n",
        "drive.mount(\"/content/drive\")"
      ],
      "id": "f1ff6f92-4630-4f51-8fd0-93b2559d5a54",
      "execution_count": null,
      "outputs": []
    },
    {
      "cell_type": "markdown",
      "metadata": {
        "id": "1XzK73dC3zf2"
      },
      "source": [
        "## Setting database path"
      ],
      "id": "1XzK73dC3zf2"
    },
    {
      "cell_type": "code",
      "metadata": {
        "id": "9NTJFjmH3zuM"
      },
      "source": [
        "os.environ[\"DB_PATH\"]=r\"/content/drive/MyDrive/ADLR_Data_Set/SingleSphere02.db\""
      ],
      "id": "9NTJFjmH3zuM",
      "execution_count": null,
      "outputs": []
    },
    {
      "cell_type": "markdown",
      "metadata": {
        "id": "ff1adde2-a16e-469c-b29c-ae374159ca22"
      },
      "source": [
        "## Setting the working directory\n"
      ],
      "id": "ff1adde2-a16e-469c-b29c-ae374159ca22"
    },
    {
      "cell_type": "code",
      "metadata": {
        "id": "9769e38a-0c23-4d10-8550-a962450b47bb"
      },
      "source": [
        "%cd /adlr"
      ],
      "id": "9769e38a-0c23-4d10-8550-a962450b47bb",
      "execution_count": null,
      "outputs": []
    },
    {
      "cell_type": "markdown",
      "metadata": {
        "id": "awzBM_XkzXK_"
      },
      "source": [
        "## Load Tensorboard\n",
        "We can use the Tensorboard to monitor the model graphs and training metrics in real time."
      ],
      "id": "awzBM_XkzXK_"
    },
    {
      "cell_type": "code",
      "metadata": {
        "id": "-ihD0EhUzNOS"
      },
      "source": [
        "%load_ext tensorboard"
      ],
      "id": "-ihD0EhUzNOS",
      "execution_count": null,
      "outputs": []
    },
    {
      "cell_type": "code",
      "metadata": {
        "id": "pWelylvAzbhs"
      },
      "source": [
        "%tensorboard --logdir \"results\""
      ],
      "id": "pWelylvAzbhs",
      "execution_count": null,
      "outputs": []
    },
    {
      "cell_type": "markdown",
      "metadata": {
        "id": "CqATDIrd4JVI"
      },
      "source": [
        "## Executing the scripts\n",
        "Use the cell below to execute our Python scripts."
      ],
      "id": "CqATDIrd4JVI"
    },
    {
      "cell_type": "code",
      "metadata": {
        "id": "49474d14-91f9-4294-a738-adfa68786b3b"
      },
      "source": [
        "%%time\n",
        "!python train_sl_model.py configs/u_dense_net_losses/combined_loss.yaml"
      ],
      "id": "49474d14-91f9-4294-a738-adfa68786b3b",
      "execution_count": null,
      "outputs": []
    },
    {
      "cell_type": "markdown",
      "metadata": {
        "id": "tCPaezLzYG1Z"
      },
      "source": [
        "## Download results\n",
        "To download the `results` directory from the Colab, we need to zip it."
      ],
      "id": "tCPaezLzYG1Z"
    },
    {
      "cell_type": "code",
      "metadata": {
        "id": "9HL4907sMwbi"
      },
      "source": [
        "from google.colab import files\n",
        "!zip -r /adlr/results.zip /adlr/results\n",
        "files.download(r\"/adlr/results.zip\")"
      ],
      "id": "9HL4907sMwbi",
      "execution_count": null,
      "outputs": []
    }
  ]
}