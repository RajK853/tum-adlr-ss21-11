{
 "cells": [
  {
   "cell_type": "markdown",
   "id": "a514681a-8e80-463b-bd9e-ba22a8ae0ef9",
   "metadata": {
    "id": "2b8e2147-cb53-4429-b77c-0f02bc35475d"
   },
   "source": [
    "# Setup for Google Colab\n",
    "The sections below are required to execute this notebook in Google Colab. If you are not executing this notebook in Google colab, you can skip these sections."
   ]
  },
  {
   "cell_type": "markdown",
   "id": "aacc3dc0-5c05-4423-a6c4-5604bbeb67c2",
   "metadata": {
    "id": "c9de8355-1cc5-4089-9b02-adaa3b459bc7"
   },
   "source": [
    "## Load Tensorflow\n",
    "In Google Colab, tensorflow can be easily selected using the given magic command:"
   ]
  },
  {
   "cell_type": "code",
   "execution_count": 1,
   "id": "d1eda636-9047-4ed3-84bc-05a8060894d4",
   "metadata": {
    "id": "fffbba7b-ea87-4373-9515-a44979fd1659"
   },
   "outputs": [
    {
     "name": "stderr",
     "output_type": "stream",
     "text": [
      "UsageError: Line magic function `%tensorflow_version` not found.\n"
     ]
    }
   ],
   "source": [
    "%tensorflow_version 2.x"
   ]
  },
  {
   "cell_type": "markdown",
   "id": "9c272a3b-f35d-4c96-a833-c8423d031cab",
   "metadata": {
    "id": "453cd5d2-6448-4f21-abbd-30c25aa96b9a"
   },
   "source": [
    "## Cloning the repo\n",
    "The shell command below clones the git repo if the local repo directory does not exit. Otherwise, it simply pulls the updated version."
   ]
  },
  {
   "cell_type": "code",
   "execution_count": null,
   "id": "d73a549c-cc7c-4673-9432-511d7f085914",
   "metadata": {
    "colab": {
     "base_uri": "https://localhost:8080/"
    },
    "id": "1906f6c4-9c4d-485a-8c2a-7b3b9ff088d5",
    "outputId": "7cc1f707-1ebf-4152-e26d-67260904f580"
   },
   "outputs": [],
   "source": [
    "%%shell\n",
    "REPOSRC=https://github.com/RajK853/tum-adlr-ss21-11.git\n",
    "LOCALREPO=/adlr\n",
    " \n",
    "LOCALREPO_VC_DIR=$LOCALREPO/.git\n",
    " \n",
    "if [ ! -d $LOCALREPO_VC_DIR ]\n",
    "then\n",
    "    git clone $REPOSRC $LOCALREPO\n",
    "else\n",
    "    cd $LOCALREPO\n",
    "    git pull $REPOSRC\n",
    "fi"
   ]
  },
  {
   "cell_type": "markdown",
   "id": "85fbd882-e665-43bd-98f7-7766cd952f4b",
   "metadata": {
    "id": "844709fb-b0b6-41a0-9e52-e5b2bc85553d"
   },
   "source": [
    "## Mount Google Drive\n",
    "Mount your Google drive to access the data set located in your Google drive."
   ]
  },
  {
   "cell_type": "code",
   "execution_count": null,
   "id": "f1ff6f92-4630-4f51-8fd0-93b2559d5a54",
   "metadata": {
    "colab": {
     "base_uri": "https://localhost:8080/"
    },
    "id": "f04d3084-f7a0-4fe1-8175-fb4d8cf9d054",
    "outputId": "94cd17ff-48dd-47d8-aab3-b4d002f7706d"
   },
   "outputs": [],
   "source": [
    "from google.colab import drive\n",
    "drive.mount(\"/content/drive\")"
   ]
  },
  {
   "cell_type": "markdown",
   "id": "ff1adde2-a16e-469c-b29c-ae374159ca22",
   "metadata": {
    "id": "af2a6fb1-4296-4b68-9b52-bee8ecb5dc30"
   },
   "source": [
    "## Setting the working directory\n"
   ]
  },
  {
   "cell_type": "code",
   "execution_count": 2,
   "id": "9769e38a-0c23-4d10-8550-a962450b47bb",
   "metadata": {
    "colab": {
     "base_uri": "https://localhost:8080/"
    },
    "id": "5b234dd3-91f1-444e-8be8-87b7272ee571",
    "outputId": "8170e2b3-72f6-4ca8-dcbb-91379262adde"
   },
   "outputs": [
    {
     "name": "stdout",
     "output_type": "stream",
     "text": [
      "/home/rajk/DIT/ADLR/tum-adlr-ss21-11\n"
     ]
    }
   ],
   "source": [
    "%cd /adlr"
   ]
  },
  {
   "cell_type": "code",
   "execution_count": 3,
   "id": "49474d14-91f9-4294-a738-adfa68786b3b",
   "metadata": {},
   "outputs": [
    {
     "name": "stdout",
     "output_type": "stream",
     "text": [
      "Obstacle images dimension: (5000, 64, 64)\n",
      "Figure(1500x2000)\n"
     ]
    }
   ],
   "source": [
    "!python demo_plot.py SingleSphere02.db"
   ]
  }
 ],
 "metadata": {
  "kernelspec": {
   "display_name": "Python 3",
   "language": "python",
   "name": "python3"
  },
  "language_info": {
   "codemirror_mode": {
    "name": "ipython",
    "version": 3
   },
   "file_extension": ".py",
   "mimetype": "text/x-python",
   "name": "python",
   "nbconvert_exporter": "python",
   "pygments_lexer": "ipython3",
   "version": "3.7.10"
  }
 },
 "nbformat": 4,
 "nbformat_minor": 5
}
