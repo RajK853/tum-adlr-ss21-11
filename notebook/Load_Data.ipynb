{
  "nbformat": 4,
  "nbformat_minor": 5,
  "metadata": {
    "kernelspec": {
      "display_name": "Python 3",
      "language": "python",
      "name": "python3"
    },
    "language_info": {
      "codemirror_mode": {
        "name": "ipython",
        "version": 3
      },
      "file_extension": ".py",
      "mimetype": "text/x-python",
      "name": "python",
      "nbconvert_exporter": "python",
      "pygments_lexer": "ipython3",
      "version": "3.7.10"
    },
    "colab": {
      "name": "Load_Data.ipynb",
      "provenance": [],
      "include_colab_link": true
    }
  },
  "cells": [
    {
      "cell_type": "markdown",
      "metadata": {
        "id": "view-in-github",
        "colab_type": "text"
      },
      "source": [
        "<a href=\"https://colab.research.google.com/github/RajK853/tum-adlr-ss21-11/blob/main/notebook/Load_Data.ipynb\" target=\"_parent\"><img src=\"https://colab.research.google.com/assets/colab-badge.svg\" alt=\"Open In Colab\"/></a>"
      ]
    },
    {
      "cell_type": "markdown",
      "metadata": {
        "id": "uwkfuNLGzYuF"
      },
      "source": [
        "# Load the data\n",
        "To execute this notebook in the Google colab, follow these steps:  \n",
        "\n",
        "1. Save [this data](https://drive.google.com/file/d/11CskuM-dcD-aAyjb_Fs_RW6F7VVblKCW/view?usp=sharing) in your Google drive.\n",
        "2. Mount your Google drive by executing the bottom cell.\n",
        "3. Set `db_path` to the location where the above data is stored in your Google drive.\n",
        "\n",
        "> If you are not executing this notebook in the Google colab, just ignore the bottom cell and set `db_path` to the location where the above data is stored in your local machine."
      ],
      "id": "uwkfuNLGzYuF"
    },
    {
      "cell_type": "code",
      "metadata": {
        "colab": {
          "base_uri": "https://localhost:8080/"
        },
        "id": "zrDWpoY_zXIn",
        "outputId": "e9aa965a-ed80-441e-bbe8-3cba5def3fd6"
      },
      "source": [
        "from google.colab import drive\n",
        "drive.mount(\"/content/drive\")\n",
        "# Download the load.py file from our private github to use it in the Google colab.\n",
        "import requests\n",
        "%mkdir -p /adlr/src\n",
        "%cd /adlr/src\n",
        "url = r\"https://raw.githubusercontent.com/RajK853/tum-adlr-ss21-11/main/src/load.py?token=ACE47QQZQ2MWHYIHLAI2YQLARSDFK\"\n",
        "with open(\"load.py\", \"w\") as fp:\n",
        "    req = requests.get(url)\n",
        "    fp.write(req.text)"
      ],
      "id": "zrDWpoY_zXIn",
      "execution_count": 21,
      "outputs": [
        {
          "output_type": "stream",
          "text": [
            "Drive already mounted at /content/drive; to attempt to forcibly remount, call drive.mount(\"/content/drive\", force_remount=True).\n",
            "/adlr/src\n"
          ],
          "name": "stdout"
        }
      ]
    },
    {
      "cell_type": "code",
      "metadata": {
        "id": "1SOqrG0Y2LmZ"
      },
      "source": [
        "db_path = r\"/content/drive/MyDrive/ADLR Data Set/SingleSphere02.db\"   # Path of the data in your Google drive / local machine"
      ],
      "id": "1SOqrG0Y2LmZ",
      "execution_count": 30,
      "outputs": []
    },
    {
      "cell_type": "code",
      "metadata": {
        "id": "33b915e2-f2b7-4abb-90ec-2c899922016f"
      },
      "source": [
        "import numpy as np\n",
        "import matplotlib.pyplot as plt"
      ],
      "id": "33b915e2-f2b7-4abb-90ec-2c899922016f",
      "execution_count": 26,
      "outputs": []
    },
    {
      "cell_type": "code",
      "metadata": {
        "colab": {
          "base_uri": "https://localhost:8080/"
        },
        "id": "ebdbe71a-3a27-42b3-bdae-3df56859e244",
        "outputId": "a69fcc61-66f9-4815-e06b-dbc2d5e128c0"
      },
      "source": [
        "# Change directory to src to import functions from load.py\n",
        "%cd \"../src\"\n",
        "from load import get_values_sql, compressed2img, object2numeric_array"
      ],
      "id": "ebdbe71a-3a27-42b3-bdae-3df56859e244",
      "execution_count": 27,
      "outputs": [
        {
          "output_type": "stream",
          "text": [
            "/adlr/src\n"
          ],
          "name": "stdout"
        }
      ]
    },
    {
      "cell_type": "markdown",
      "metadata": {
        "id": "fe7fbd19-a95e-4576-bdc6-67b3ceab97c6"
      },
      "source": [
        "## Initialize global variables"
      ],
      "id": "fe7fbd19-a95e-4576-bdc6-67b3ceab97c6"
    },
    {
      "cell_type": "code",
      "metadata": {
        "id": "7e2e01b4-480e-43fc-b866-d1d199929f2b"
      },
      "source": [
        "n_voxels = 64\n",
        "voxel_size = 10 / 64     # in m\n",
        "extent = [0, 10, 0, 10]  # in m\n",
        "n_waypoints = 22         # start + 20 inner points + end\n",
        "n_dim = 2\n",
        "n_paths_per_world = 1000\n",
        "n_worlds = 5000"
      ],
      "id": "7e2e01b4-480e-43fc-b866-d1d199929f2b",
      "execution_count": 28,
      "outputs": []
    },
    {
      "cell_type": "markdown",
      "metadata": {
        "id": "8c0b7b40-150f-43cb-a41d-eb8187bb5af7"
      },
      "source": [
        "## Loading data"
      ],
      "id": "8c0b7b40-150f-43cb-a41d-eb8187bb5af7"
    },
    {
      "cell_type": "code",
      "metadata": {
        "colab": {
          "base_uri": "https://localhost:8080/"
        },
        "id": "a994eac0-bc90-4284-aa39-ae2dd7d167af",
        "outputId": "fc3197d0-6fc3-47aa-81cd-d52b2dbceca0"
      },
      "source": [
        "worlds = get_values_sql(file=db_path, table='worlds')\n",
        "obstacle_images = compressed2img(img_cmp=worlds.obst_img_cmp.values, n_voxels=n_voxels, n_dim=n_dim)\n",
        "print(f\"Obstacle images dimension: {obstacle_images.shape}\")"
      ],
      "id": "a994eac0-bc90-4284-aa39-ae2dd7d167af",
      "execution_count": 31,
      "outputs": [
        {
          "output_type": "stream",
          "text": [
            "Obstacle images dimension: (5000, 64, 64)\n"
          ],
          "name": "stdout"
        },
        {
          "output_type": "stream",
          "text": [
            "/adlr/src/load.py:163: VisibleDeprecationWarning: Creating an ndarray from ragged nested sequences (which is a list-or-tuple of lists-or-tuples-or ndarrays with different lengths or shapes) is deprecated. If you meant to do this, you must specify 'dtype=object' when creating the ndarray\n",
            "  value = np.array([np.frombuffer(v, dtype=int) for v in value])\n"
          ],
          "name": "stderr"
        }
      ]
    },
    {
      "cell_type": "markdown",
      "metadata": {
        "id": "6f63e4aa-2907-4346-8923-968eccb402f9"
      },
      "source": [
        "Each world consists of **1000 paths** i.e. world 0 = 0 - 999, world 1 = 1000 - 1999, etc."
      ],
      "id": "6f63e4aa-2907-4346-8923-968eccb402f9"
    },
    {
      "cell_type": "code",
      "metadata": {
        "id": "65594203-ace5-4d31-b2e9-580b99e01acc"
      },
      "source": [
        "# always 1000 paths belong to one world\n",
        "# 0...999     -> world 0\n",
        "# 1000...1999 -> world 1\n",
        "# 2000...2999 -> world 2\n",
        "paths = get_values_sql(file=db_path, table='paths', rows=[0, 1, 2, 1000, 2000])\n",
        "path_images = compressed2img(img_cmp=paths.path_img_cmp.values, n_voxels=n_voxels, n_dim=n_dim)\n",
        "start_images = compressed2img(img_cmp=paths.start_img_cmp.values, n_voxels=n_voxels, n_dim=n_dim)\n",
        "end_images = compressed2img(img_cmp=paths.end_img_cmp.values, n_voxels=n_voxels, n_dim=n_dim)\n",
        "\n",
        "q_paths = object2numeric_array(paths.q_path.values)\n",
        "q_paths = q_paths.reshape(-1, n_waypoints, n_dim)"
      ],
      "id": "65594203-ace5-4d31-b2e9-580b99e01acc",
      "execution_count": 32,
      "outputs": []
    },
    {
      "cell_type": "markdown",
      "metadata": {
        "id": "8ff97628-a8ee-4cfd-bd15-c24b6fb63930"
      },
      "source": [
        "## Plot and example"
      ],
      "id": "8ff97628-a8ee-4cfd-bd15-c24b6fb63930"
    },
    {
      "cell_type": "code",
      "metadata": {
        "colab": {
          "base_uri": "https://localhost:8080/",
          "height": 172
        },
        "id": "f138546b-3308-4c06-848f-9990a46ff41f",
        "outputId": "7876175b-977a-41ca-d2d0-6552761be327"
      },
      "source": [
        "i = 0\n",
        "i_world = paths.i_world[i].item()\n",
        "\n",
        "_, axs = plt.subplots(nrows=1, ncols=4, figsize=(10, 10))\n",
        "axs[0].imshow(obstacle_images[i_world].T, origin='lower', extent=extent, cmap='binary')\n",
        "axs[1].imshow(start_images[i].T, origin='lower', extent=extent, cmap='Greens')\n",
        "axs[2].imshow(end_images[i].T, origin='lower', extent=extent, cmap='Reds')\n",
        "axs[3].imshow(path_images[i].T, origin='lower', extent=extent, cmap='Blues')\n",
        "# Set titles and remove x/y ticks\n",
        "for (ax, title) in zip(axs, (\"Obstacles\", \"Start point\", \"End point\", \"Path\")) :\n",
        "    ax.set_title(title)\n",
        "    ax.set_xticks([])\n",
        "    ax.set_yticks([])\n",
        "plt.show()"
      ],
      "id": "f138546b-3308-4c06-848f-9990a46ff41f",
      "execution_count": 33,
      "outputs": [
        {
          "output_type": "display_data",
          "data": {
            "image/png": "[encoded data removed]",
            "text/plain": [
              "<Figure size 720x720 with 4 Axes>"
            ]
          },
          "metadata": {
            "tags": []
          }
        }
      ]
    },
    {
      "cell_type": "code",
      "metadata": {
        "colab": {
          "base_uri": "https://localhost:8080/",
          "height": 268
        },
        "id": "3e15215e-5f9d-4bcf-a835-17bd15346dc9",
        "outputId": "3b06df5b-6d13-4101-a15e-0e6bcde6cb26"
      },
      "source": [
        "i = 0\n",
        "i_world = paths.i_world[i].item()\n",
        "\n",
        "fig, ax = plt.subplots()\n",
        "ax.imshow(obstacle_images[i_world].T, origin='lower', extent=extent, cmap='binary',)\n",
        "ax.imshow(start_images[i].T, origin='lower', extent=extent, cmap='Greens', alpha=0.4)\n",
        "ax.imshow(end_images[i].T, origin='lower', extent=extent, cmap='Reds', alpha=0.4)\n",
        "ax.imshow(path_images[i].T, origin='lower', extent=extent, cmap='Blues', alpha=0.2)\n",
        "ax.plot(*q_paths[i].T, color='k', marker='o')\n",
        "plt.title(\"Combined plot\")\n",
        "plt.xticks([])\n",
        "plt.yticks([])\n",
        "plt.show()"
      ],
      "id": "3e15215e-5f9d-4bcf-a835-17bd15346dc9",
      "execution_count": 34,
      "outputs": [
        {
          "output_type": "display_data",
          "data": {
            "image/png": "[encoded data removed]",
            "text/plain": [
              "<Figure size 432x288 with 1 Axes>"
            ]
          },
          "metadata": {
            "tags": []
          }
        }
      ]
    },
    {
      "cell_type": "code",
      "metadata": {
        "id": "876a539e-3f57-45e7-8c48-a8f5562015e3"
      },
      "source": [
        ""
      ],
      "id": "876a539e-3f57-45e7-8c48-a8f5562015e3",
      "execution_count": null,
      "outputs": []
    }
  ]
}